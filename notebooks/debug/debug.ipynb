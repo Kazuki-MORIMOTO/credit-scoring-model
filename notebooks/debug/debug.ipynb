{
 "cells": [
  {
   "cell_type": "markdown",
   "id": "6b1e2fbb-6ed8-40b3-b8ab-7b37ee090594",
   "metadata": {},
   "source": [
    "# 環境変数の設定\n",
    "- PROJECT_ROOT：プロジェクトのルートディレクトリの設定\n",
    "- PYTHONPATH：pythonがモジュールやパッケージを探すためのパス"
   ]
  },
  {
   "cell_type": "code",
   "execution_count": 2,
   "id": "327350eb-5500-4995-a497-b93862678f8c",
   "metadata": {},
   "outputs": [],
   "source": [
    "import os\n",
    "import sys\n",
    "\n",
    "### 環境変数 CONFIG を 'prod' に設定\n",
    "os.environ[\"CONFIG\"] = \"prod\"\n",
    "\n",
    "os.environ[\"PROJECT_ROOT\"] = \"/root/credit-scoring-model\"\n",
    "os.environ[\"PYTHONPATH\"] = f\"$PYTHONPATH:{os.getenv('PROJECT_ROOT')}\""
   ]
  },
  {
   "cell_type": "markdown",
   "id": "9f9b6114-0596-440d-8ca0-045145ef4c52",
   "metadata": {},
   "source": [
    "# individual / train"
   ]
  },
  {
   "cell_type": "markdown",
   "id": "5582aff8-5f24-4f27-8d0e-3adf9ab1a10d",
   "metadata": {},
   "source": [
    "## extract.py"
   ]
  },
  {
   "cell_type": "code",
   "execution_count": 45,
   "id": "19a23e2c-6c80-4d37-9d23-439793e048b2",
   "metadata": {
    "tags": []
   },
   "outputs": [
    {
     "name": "stdout",
     "output_type": "stream",
     "text": [
      "execute prod env\n",
      "current time:2024-09-30_13:30:26\n",
      "-- Check start_query_execution`s response:\n",
      "{'QueryExecutionId': '2467dc32-f736-4308-b897-ff8d601677d0',\n",
      " 'ResponseMetadata': {'HTTPHeaders': {'connection': 'keep-alive',\n",
      "                                      'content-length': '59',\n",
      "                                      'content-type': 'application/x-amz-json-1.1',\n",
      "                                      'date': 'Mon, 30 Sep 2024 04:30:26 GMT',\n",
      "                                      'x-amzn-requestid': '30057173-a572-4bb2-ad32-bf0e573acb74'},\n",
      "                      'HTTPStatusCode': 200,\n",
      "                      'RequestId': '30057173-a572-4bb2-ad32-bf0e573acb74',\n",
      "                      'RetryAttempts': 0}}\n",
      "wait...\n",
      "SUCCEEDED\n",
      "/root/credit-scoring-model/src/common/common_func.py:107: DtypeWarning: Columns (7,9) have mixed types. Specify dtype option on import or set low_memory=False.\n",
      "  df = pd.read_csv(io.BytesIO(response[\"Body\"].read()), encoding=\"utf-8\")\n",
      "df_ApplicationData shape:(141569, 40)\n",
      "save to :kintojpn/credit-scoring-model/individual/data/raw/training/application_data2024-09-30_13:30:26_application_data.csv\n",
      "-- Check start_query_execution`s response:\n",
      "{'QueryExecutionId': '91cc9e26-c5a5-4eeb-bf34-648289193b58',\n",
      " 'ResponseMetadata': {'HTTPHeaders': {'connection': 'keep-alive',\n",
      "                                      'content-length': '59',\n",
      "                                      'content-type': 'application/x-amz-json-1.1',\n",
      "                                      'date': 'Mon, 30 Sep 2024 04:30:42 GMT',\n",
      "                                      'x-amzn-requestid': '40a33880-dc4a-46d6-96e9-74c95647d506'},\n",
      "                      'HTTPStatusCode': 200,\n",
      "                      'RequestId': '40a33880-dc4a-46d6-96e9-74c95647d506',\n",
      "                      'RetryAttempts': 0}}\n",
      "wait...\n",
      "wait...\n",
      "wait...\n",
      "SUCCEEDED\n",
      "/root/credit-scoring-model/src/common/common_func.py:107: DtypeWarning: Columns (1,30) have mixed types. Specify dtype option on import or set low_memory=False.\n",
      "  df = pd.read_csv(io.BytesIO(response[\"Body\"].read()), encoding=\"utf-8\")\n",
      "df_CarData shape:(141569, 60)\n",
      "save to :kintojpn/credit-scoring-model/individual/data/raw/training/car_data2024-09-30_13:30:26_car_data.csv\n",
      "-- Check start_query_execution`s response:\n",
      "{'QueryExecutionId': '0b92a670-1f9d-4be3-ba8c-2c9ddf0d7f01',\n",
      " 'ResponseMetadata': {'HTTPHeaders': {'connection': 'keep-alive',\n",
      "                                      'content-length': '59',\n",
      "                                      'content-type': 'application/x-amz-json-1.1',\n",
      "                                      'date': 'Mon, 30 Sep 2024 04:31:16 GMT',\n",
      "                                      'x-amzn-requestid': 'f76aaa8f-d633-4773-a7f3-8a3d9989a4ae'},\n",
      "                      'HTTPStatusCode': 200,\n",
      "                      'RequestId': 'f76aaa8f-d633-4773-a7f3-8a3d9989a4ae',\n",
      "                      'RetryAttempts': 0}}\n",
      "wait...\n",
      "SUCCEEDED\n",
      "df_ChomonixData shape:(86228, 7)\n",
      "save to :kintojpn/credit-scoring-model/individual/data/raw/training/chomonix2024-09-30_13:30:26_chomonix_data.csv\n",
      "df_Weblog shape:(45496, 37)\n",
      "save to :kintojpn/credit-scoring-model/individual/data/raw/training/weblog_data2024-09-30_13:30:26_weblog_data.csv\n",
      "df_KINTOLicenseData shape:(127637, 10)\n",
      "save to :kintojpn/credit-scoring-model/individual/data/raw/training/kinto_licence_data2024-09-30_13:30:26_kinto_licence_data.csv\n"
     ]
    }
   ],
   "source": [
    "### extract.pyの実行\n",
    "!{sys.executable} /root/credit-scoring-model/src/individual/train/extract.py"
   ]
  },
  {
   "cell_type": "markdown",
   "id": "ee5884d5-433e-4c4d-94fa-45d1caaae378",
   "metadata": {
    "tags": []
   },
   "source": [
    "## preprocess.py"
   ]
  },
  {
   "cell_type": "code",
   "execution_count": 73,
   "id": "ae965303-10a3-4676-a0bb-742c53386dc1",
   "metadata": {},
   "outputs": [
    {
     "name": "stdout",
     "output_type": "stream",
     "text": [
      "execute prod env\n",
      "current time:2024-09-30_20:37:50\n",
      " Start of cleansing of TFC processing data\n",
      "/root/credit-scoring-model/src/common/common_func.py:36: DtypeWarning: Columns (24,32,107,109) have mixed types. Specify dtype option on import or set low_memory=False.\n",
      "  df = pd.read_csv(io.BytesIO(response[\"Body\"].read()),\n",
      "【個人】与信結果データ_201902_202312.csv:(87120, 124)\n",
      "【個人】与信結果データ_202401_202405.csv:(11656, 124)\n",
      "【個人】説明変数データ_201902_202312.csv:(87120, 206)\n",
      "【個人】説明変数データ_202401_202405.csv:(11656, 206)\n",
      "/root/credit-scoring-model/src/common/common_func.py:36: DtypeWarning: Columns (9,36,37) have mixed types. Specify dtype option on import or set low_memory=False.\n",
      "  df = pd.read_csv(io.BytesIO(response[\"Body\"].read()),\n",
      "【個人】更新版_目的変数データ_201902_202405.csv:(50651, 89)\n",
      "【個人】免許証データ_201902_202312.csv:(87120, 2)\n",
      "【個人】与信結果データ_カラム名.csv:(130, 2)\n",
      "【個人】説明変数データ_カラム名.csv:(206, 2)\n",
      "【個人】目的変数データ_カラム名.csv:(86, 2)\n",
      "【個人】免許証データ_カラム名.csv:(2, 2)\n",
      "df_indivisual_result shape:(98776, 124)\n",
      "df_indivisual_explain shape:(98776, 206)\n",
      "df_indivisual_result shape:(98776, 124)\n",
      "df_indivisual_result shape:(98776, 120)\n",
      "df_indivisual_object nunique 契約番号_object:50651\n",
      "df_indivisual_license nunique 免許証番号_license:68696\n",
      "期失処理日_object\n",
      "merge result and explain:(98776, 327) , nunique 申込書受付番号_result:98776\n",
      "merge tfc and object:(98776, 419), nunique 申込書受付番号_result:98776\n",
      "merge tfc and object:(98776, 419), nunique 契約番号_object:50645\n",
      "merge tfc and license:(98776, 421), nunique 申込書受付番号_result:98776\n",
      "df_tfc shape: (98776, 421)\n",
      "df_tfc shape: (98758, 421)\n",
      " Start of cleansing of KINTO Inner data \n",
      "\n",
      "Latest file name of Application data : 2024-09-30_13:30:26_application_data.csv \n",
      "/root/credit-scoring-model/src/common/common_func.py:36: DtypeWarning: Columns (7,9) have mixed types. Specify dtype option on import or set low_memory=False.\n",
      "  df = pd.read_csv(io.BytesIO(response[\"Body\"].read()),\n",
      "2024-09-30_13:30:26_application_data.csv:(141569, 40)\n",
      "\n",
      "Latest file name of car data : 2024-09-30_13:30:26_car_data.csv\n",
      "/root/credit-scoring-model/src/common/common_func.py:36: DtypeWarning: Columns (1,30) have mixed types. Specify dtype option on import or set low_memory=False.\n",
      "  df = pd.read_csv(io.BytesIO(response[\"Body\"].read()),\n",
      "2024-09-30_13:30:26_car_data.csv:(141569, 60) \n",
      "\n",
      "Latest file name of chomonix data : 2024-09-30_13:30:26_chomonix_data.csv\n",
      "2024-09-30_13:30:26_chomonix_data.csv:(86228, 7) \n",
      "\n",
      "Latest file name of weblog data : 2024-09-30_13:30:26_weblog_data.csv\n",
      "2024-09-30_13:30:26_weblog_data.csv:(45496, 37) \n",
      "\n",
      "Latest file name of KINTO Licence data : 2024-09-30_13:30:26_kinto_licence_data.csv\n",
      "2024-09-30_13:30:26_kinto_licence_data.csv:(127637, 10) \n",
      "\n",
      "df_CarData nunique 契約管理番号:98308\n",
      "df_KINTOLicenceData nunique 運転免許番号:94282\n",
      "merge df_CarData and df_ApplicationData:(141569, 95), nunique 契約ID:141569\n",
      "merge df_kinto and df_WeblogData:(141569, 132), nunique 申込書受付番号_result:141569\n",
      "merge df_kinto and df_chomonix:(141569, 139), nunique 申込書受付番号_result:141569\n",
      "merge df_kinto and df_KINTOLicenceData:(141569, 149), nunique 申込書受付番号_result:141569\n",
      "df_kinto shape: (141569, 149)\n",
      "df_kinto shape: (127259, 149)\n",
      " Start of Cleansing of merge processing data\n",
      "df_kinto shape:(127259, 150)\n",
      "df_tfc shape:(98758, 422)\n",
      "merge df_kinto and df_tfc:(98758, 572), nunique 契約ID:86033\n",
      "与信結果:与信結果_result\n",
      "1承認    69278\n",
      "2否決    25658\n",
      "5取消     3729\n",
      "4可決       92\n",
      "3条変        1\n",
      "Name: count, dtype: int64\n",
      "df_merge shape: (98758, 572)\n"
     ]
    }
   ],
   "source": [
    "### preprocess.pyの実行\n",
    "!{sys.executable} /root/credit-scoring-model/src/individual/train/preprocess.py"
   ]
  },
  {
   "cell_type": "code",
   "execution_count": null,
   "id": "bc5f367f-1a61-44cc-af28-2d388b2fefd2",
   "metadata": {},
   "outputs": [],
   "source": []
  },
  {
   "cell_type": "code",
   "execution_count": null,
   "id": "1c803b8f-69a7-47a6-8e60-6f295088a522",
   "metadata": {},
   "outputs": [],
   "source": []
  },
  {
   "cell_type": "code",
   "execution_count": null,
   "id": "be3c6e93-f498-4cf3-8125-6e93b8639e49",
   "metadata": {},
   "outputs": [],
   "source": []
  },
  {
   "cell_type": "code",
   "execution_count": null,
   "id": "1f64862e-99d8-4030-b7bc-fd4acd4c43f6",
   "metadata": {},
   "outputs": [],
   "source": []
  },
  {
   "cell_type": "code",
   "execution_count": null,
   "id": "24bff34f-3b60-48b5-bd3d-4903ad9544a0",
   "metadata": {},
   "outputs": [],
   "source": []
  },
  {
   "cell_type": "code",
   "execution_count": null,
   "id": "f37b496d-c2fc-47a9-9ead-349e6b8dfad1",
   "metadata": {},
   "outputs": [],
   "source": []
  },
  {
   "cell_type": "code",
   "execution_count": null,
   "id": "33dfe028-ffce-4cc2-a5e9-aa643c246d63",
   "metadata": {},
   "outputs": [],
   "source": []
  },
  {
   "cell_type": "code",
   "execution_count": null,
   "id": "e05520e7-c98a-44b8-a0fc-0920bcc84c7d",
   "metadata": {},
   "outputs": [],
   "source": []
  },
  {
   "cell_type": "code",
   "execution_count": null,
   "id": "97ce375a-ebfa-4fb0-8a7a-6ea244665550",
   "metadata": {},
   "outputs": [],
   "source": []
  },
  {
   "cell_type": "code",
   "execution_count": null,
   "id": "3dbd9af2-b27b-43c9-a19c-fb785202a0ae",
   "metadata": {},
   "outputs": [],
   "source": []
  },
  {
   "cell_type": "code",
   "execution_count": null,
   "id": "ed5e64f7-fe5d-4aa6-acdc-011d86569659",
   "metadata": {},
   "outputs": [],
   "source": []
  },
  {
   "cell_type": "markdown",
   "id": "e4c4b478-f579-4996-99ad-d0999b798b19",
   "metadata": {},
   "source": [
    "# main_test.py"
   ]
  },
  {
   "cell_type": "code",
   "execution_count": 17,
   "id": "e36e6c2f-424a-4a58-9a42-a12073fef948",
   "metadata": {
    "tags": []
   },
   "outputs": [
    {
     "name": "stdout",
     "output_type": "stream",
     "text": [
      "bucket URL: prod-analysis-platform-sagemaker-ap-northeast-1\n"
     ]
    }
   ],
   "source": [
    "### main_test.pyの実行\n",
    "\n",
    "!{sys.executable} /root/credit-scoring-model/src/main_test.py"
   ]
  },
  {
   "cell_type": "code",
   "execution_count": null,
   "id": "c33f93e4-33ae-4599-8bb2-0f6f428da7a2",
   "metadata": {
    "tags": []
   },
   "outputs": [],
   "source": []
  },
  {
   "cell_type": "code",
   "execution_count": null,
   "id": "552b02e0-d5da-4d3b-a422-947045a9e0b5",
   "metadata": {},
   "outputs": [],
   "source": []
  }
 ],
 "metadata": {
  "availableInstances": [
   {
    "_defaultOrder": 0,
    "_isFastLaunch": true,
    "category": "General purpose",
    "gpuNum": 0,
    "hideHardwareSpecs": false,
    "memoryGiB": 4,
    "name": "ml.t3.medium",
    "vcpuNum": 2
   },
   {
    "_defaultOrder": 1,
    "_isFastLaunch": false,
    "category": "General purpose",
    "gpuNum": 0,
    "hideHardwareSpecs": false,
    "memoryGiB": 8,
    "name": "ml.t3.large",
    "vcpuNum": 2
   },
   {
    "_defaultOrder": 2,
    "_isFastLaunch": false,
    "category": "General purpose",
    "gpuNum": 0,
    "hideHardwareSpecs": false,
    "memoryGiB": 16,
    "name": "ml.t3.xlarge",
    "vcpuNum": 4
   },
   {
    "_defaultOrder": 3,
    "_isFastLaunch": false,
    "category": "General purpose",
    "gpuNum": 0,
    "hideHardwareSpecs": false,
    "memoryGiB": 32,
    "name": "ml.t3.2xlarge",
    "vcpuNum": 8
   },
   {
    "_defaultOrder": 4,
    "_isFastLaunch": true,
    "category": "General purpose",
    "gpuNum": 0,
    "hideHardwareSpecs": false,
    "memoryGiB": 8,
    "name": "ml.m5.large",
    "vcpuNum": 2
   },
   {
    "_defaultOrder": 5,
    "_isFastLaunch": false,
    "category": "General purpose",
    "gpuNum": 0,
    "hideHardwareSpecs": false,
    "memoryGiB": 16,
    "name": "ml.m5.xlarge",
    "vcpuNum": 4
   },
   {
    "_defaultOrder": 6,
    "_isFastLaunch": false,
    "category": "General purpose",
    "gpuNum": 0,
    "hideHardwareSpecs": false,
    "memoryGiB": 32,
    "name": "ml.m5.2xlarge",
    "vcpuNum": 8
   },
   {
    "_defaultOrder": 7,
    "_isFastLaunch": false,
    "category": "General purpose",
    "gpuNum": 0,
    "hideHardwareSpecs": false,
    "memoryGiB": 64,
    "name": "ml.m5.4xlarge",
    "vcpuNum": 16
   },
   {
    "_defaultOrder": 8,
    "_isFastLaunch": false,
    "category": "General purpose",
    "gpuNum": 0,
    "hideHardwareSpecs": false,
    "memoryGiB": 128,
    "name": "ml.m5.8xlarge",
    "vcpuNum": 32
   },
   {
    "_defaultOrder": 9,
    "_isFastLaunch": false,
    "category": "General purpose",
    "gpuNum": 0,
    "hideHardwareSpecs": false,
    "memoryGiB": 192,
    "name": "ml.m5.12xlarge",
    "vcpuNum": 48
   },
   {
    "_defaultOrder": 10,
    "_isFastLaunch": false,
    "category": "General purpose",
    "gpuNum": 0,
    "hideHardwareSpecs": false,
    "memoryGiB": 256,
    "name": "ml.m5.16xlarge",
    "vcpuNum": 64
   },
   {
    "_defaultOrder": 11,
    "_isFastLaunch": false,
    "category": "General purpose",
    "gpuNum": 0,
    "hideHardwareSpecs": false,
    "memoryGiB": 384,
    "name": "ml.m5.24xlarge",
    "vcpuNum": 96
   },
   {
    "_defaultOrder": 12,
    "_isFastLaunch": false,
    "category": "General purpose",
    "gpuNum": 0,
    "hideHardwareSpecs": false,
    "memoryGiB": 8,
    "name": "ml.m5d.large",
    "vcpuNum": 2
   },
   {
    "_defaultOrder": 13,
    "_isFastLaunch": false,
    "category": "General purpose",
    "gpuNum": 0,
    "hideHardwareSpecs": false,
    "memoryGiB": 16,
    "name": "ml.m5d.xlarge",
    "vcpuNum": 4
   },
   {
    "_defaultOrder": 14,
    "_isFastLaunch": false,
    "category": "General purpose",
    "gpuNum": 0,
    "hideHardwareSpecs": false,
    "memoryGiB": 32,
    "name": "ml.m5d.2xlarge",
    "vcpuNum": 8
   },
   {
    "_defaultOrder": 15,
    "_isFastLaunch": false,
    "category": "General purpose",
    "gpuNum": 0,
    "hideHardwareSpecs": false,
    "memoryGiB": 64,
    "name": "ml.m5d.4xlarge",
    "vcpuNum": 16
   },
   {
    "_defaultOrder": 16,
    "_isFastLaunch": false,
    "category": "General purpose",
    "gpuNum": 0,
    "hideHardwareSpecs": false,
    "memoryGiB": 128,
    "name": "ml.m5d.8xlarge",
    "vcpuNum": 32
   },
   {
    "_defaultOrder": 17,
    "_isFastLaunch": false,
    "category": "General purpose",
    "gpuNum": 0,
    "hideHardwareSpecs": false,
    "memoryGiB": 192,
    "name": "ml.m5d.12xlarge",
    "vcpuNum": 48
   },
   {
    "_defaultOrder": 18,
    "_isFastLaunch": false,
    "category": "General purpose",
    "gpuNum": 0,
    "hideHardwareSpecs": false,
    "memoryGiB": 256,
    "name": "ml.m5d.16xlarge",
    "vcpuNum": 64
   },
   {
    "_defaultOrder": 19,
    "_isFastLaunch": false,
    "category": "General purpose",
    "gpuNum": 0,
    "hideHardwareSpecs": false,
    "memoryGiB": 384,
    "name": "ml.m5d.24xlarge",
    "vcpuNum": 96
   },
   {
    "_defaultOrder": 20,
    "_isFastLaunch": false,
    "category": "General purpose",
    "gpuNum": 0,
    "hideHardwareSpecs": true,
    "memoryGiB": 0,
    "name": "ml.geospatial.interactive",
    "supportedImageNames": [
     "sagemaker-geospatial-v1-0"
    ],
    "vcpuNum": 0
   },
   {
    "_defaultOrder": 21,
    "_isFastLaunch": true,
    "category": "Compute optimized",
    "gpuNum": 0,
    "hideHardwareSpecs": false,
    "memoryGiB": 4,
    "name": "ml.c5.large",
    "vcpuNum": 2
   },
   {
    "_defaultOrder": 22,
    "_isFastLaunch": false,
    "category": "Compute optimized",
    "gpuNum": 0,
    "hideHardwareSpecs": false,
    "memoryGiB": 8,
    "name": "ml.c5.xlarge",
    "vcpuNum": 4
   },
   {
    "_defaultOrder": 23,
    "_isFastLaunch": false,
    "category": "Compute optimized",
    "gpuNum": 0,
    "hideHardwareSpecs": false,
    "memoryGiB": 16,
    "name": "ml.c5.2xlarge",
    "vcpuNum": 8
   },
   {
    "_defaultOrder": 24,
    "_isFastLaunch": false,
    "category": "Compute optimized",
    "gpuNum": 0,
    "hideHardwareSpecs": false,
    "memoryGiB": 32,
    "name": "ml.c5.4xlarge",
    "vcpuNum": 16
   },
   {
    "_defaultOrder": 25,
    "_isFastLaunch": false,
    "category": "Compute optimized",
    "gpuNum": 0,
    "hideHardwareSpecs": false,
    "memoryGiB": 72,
    "name": "ml.c5.9xlarge",
    "vcpuNum": 36
   },
   {
    "_defaultOrder": 26,
    "_isFastLaunch": false,
    "category": "Compute optimized",
    "gpuNum": 0,
    "hideHardwareSpecs": false,
    "memoryGiB": 96,
    "name": "ml.c5.12xlarge",
    "vcpuNum": 48
   },
   {
    "_defaultOrder": 27,
    "_isFastLaunch": false,
    "category": "Compute optimized",
    "gpuNum": 0,
    "hideHardwareSpecs": false,
    "memoryGiB": 144,
    "name": "ml.c5.18xlarge",
    "vcpuNum": 72
   },
   {
    "_defaultOrder": 28,
    "_isFastLaunch": false,
    "category": "Compute optimized",
    "gpuNum": 0,
    "hideHardwareSpecs": false,
    "memoryGiB": 192,
    "name": "ml.c5.24xlarge",
    "vcpuNum": 96
   },
   {
    "_defaultOrder": 29,
    "_isFastLaunch": true,
    "category": "Accelerated computing",
    "gpuNum": 1,
    "hideHardwareSpecs": false,
    "memoryGiB": 16,
    "name": "ml.g4dn.xlarge",
    "vcpuNum": 4
   },
   {
    "_defaultOrder": 30,
    "_isFastLaunch": false,
    "category": "Accelerated computing",
    "gpuNum": 1,
    "hideHardwareSpecs": false,
    "memoryGiB": 32,
    "name": "ml.g4dn.2xlarge",
    "vcpuNum": 8
   },
   {
    "_defaultOrder": 31,
    "_isFastLaunch": false,
    "category": "Accelerated computing",
    "gpuNum": 1,
    "hideHardwareSpecs": false,
    "memoryGiB": 64,
    "name": "ml.g4dn.4xlarge",
    "vcpuNum": 16
   },
   {
    "_defaultOrder": 32,
    "_isFastLaunch": false,
    "category": "Accelerated computing",
    "gpuNum": 1,
    "hideHardwareSpecs": false,
    "memoryGiB": 128,
    "name": "ml.g4dn.8xlarge",
    "vcpuNum": 32
   },
   {
    "_defaultOrder": 33,
    "_isFastLaunch": false,
    "category": "Accelerated computing",
    "gpuNum": 4,
    "hideHardwareSpecs": false,
    "memoryGiB": 192,
    "name": "ml.g4dn.12xlarge",
    "vcpuNum": 48
   },
   {
    "_defaultOrder": 34,
    "_isFastLaunch": false,
    "category": "Accelerated computing",
    "gpuNum": 1,
    "hideHardwareSpecs": false,
    "memoryGiB": 256,
    "name": "ml.g4dn.16xlarge",
    "vcpuNum": 64
   },
   {
    "_defaultOrder": 35,
    "_isFastLaunch": false,
    "category": "Accelerated computing",
    "gpuNum": 1,
    "hideHardwareSpecs": false,
    "memoryGiB": 61,
    "name": "ml.p3.2xlarge",
    "vcpuNum": 8
   },
   {
    "_defaultOrder": 36,
    "_isFastLaunch": false,
    "category": "Accelerated computing",
    "gpuNum": 4,
    "hideHardwareSpecs": false,
    "memoryGiB": 244,
    "name": "ml.p3.8xlarge",
    "vcpuNum": 32
   },
   {
    "_defaultOrder": 37,
    "_isFastLaunch": false,
    "category": "Accelerated computing",
    "gpuNum": 8,
    "hideHardwareSpecs": false,
    "memoryGiB": 488,
    "name": "ml.p3.16xlarge",
    "vcpuNum": 64
   },
   {
    "_defaultOrder": 38,
    "_isFastLaunch": false,
    "category": "Accelerated computing",
    "gpuNum": 8,
    "hideHardwareSpecs": false,
    "memoryGiB": 768,
    "name": "ml.p3dn.24xlarge",
    "vcpuNum": 96
   },
   {
    "_defaultOrder": 39,
    "_isFastLaunch": false,
    "category": "Memory Optimized",
    "gpuNum": 0,
    "hideHardwareSpecs": false,
    "memoryGiB": 16,
    "name": "ml.r5.large",
    "vcpuNum": 2
   },
   {
    "_defaultOrder": 40,
    "_isFastLaunch": false,
    "category": "Memory Optimized",
    "gpuNum": 0,
    "hideHardwareSpecs": false,
    "memoryGiB": 32,
    "name": "ml.r5.xlarge",
    "vcpuNum": 4
   },
   {
    "_defaultOrder": 41,
    "_isFastLaunch": false,
    "category": "Memory Optimized",
    "gpuNum": 0,
    "hideHardwareSpecs": false,
    "memoryGiB": 64,
    "name": "ml.r5.2xlarge",
    "vcpuNum": 8
   },
   {
    "_defaultOrder": 42,
    "_isFastLaunch": false,
    "category": "Memory Optimized",
    "gpuNum": 0,
    "hideHardwareSpecs": false,
    "memoryGiB": 128,
    "name": "ml.r5.4xlarge",
    "vcpuNum": 16
   },
   {
    "_defaultOrder": 43,
    "_isFastLaunch": false,
    "category": "Memory Optimized",
    "gpuNum": 0,
    "hideHardwareSpecs": false,
    "memoryGiB": 256,
    "name": "ml.r5.8xlarge",
    "vcpuNum": 32
   },
   {
    "_defaultOrder": 44,
    "_isFastLaunch": false,
    "category": "Memory Optimized",
    "gpuNum": 0,
    "hideHardwareSpecs": false,
    "memoryGiB": 384,
    "name": "ml.r5.12xlarge",
    "vcpuNum": 48
   },
   {
    "_defaultOrder": 45,
    "_isFastLaunch": false,
    "category": "Memory Optimized",
    "gpuNum": 0,
    "hideHardwareSpecs": false,
    "memoryGiB": 512,
    "name": "ml.r5.16xlarge",
    "vcpuNum": 64
   },
   {
    "_defaultOrder": 46,
    "_isFastLaunch": false,
    "category": "Memory Optimized",
    "gpuNum": 0,
    "hideHardwareSpecs": false,
    "memoryGiB": 768,
    "name": "ml.r5.24xlarge",
    "vcpuNum": 96
   },
   {
    "_defaultOrder": 47,
    "_isFastLaunch": false,
    "category": "Accelerated computing",
    "gpuNum": 1,
    "hideHardwareSpecs": false,
    "memoryGiB": 16,
    "name": "ml.g5.xlarge",
    "vcpuNum": 4
   },
   {
    "_defaultOrder": 48,
    "_isFastLaunch": false,
    "category": "Accelerated computing",
    "gpuNum": 1,
    "hideHardwareSpecs": false,
    "memoryGiB": 32,
    "name": "ml.g5.2xlarge",
    "vcpuNum": 8
   },
   {
    "_defaultOrder": 49,
    "_isFastLaunch": false,
    "category": "Accelerated computing",
    "gpuNum": 1,
    "hideHardwareSpecs": false,
    "memoryGiB": 64,
    "name": "ml.g5.4xlarge",
    "vcpuNum": 16
   },
   {
    "_defaultOrder": 50,
    "_isFastLaunch": false,
    "category": "Accelerated computing",
    "gpuNum": 1,
    "hideHardwareSpecs": false,
    "memoryGiB": 128,
    "name": "ml.g5.8xlarge",
    "vcpuNum": 32
   },
   {
    "_defaultOrder": 51,
    "_isFastLaunch": false,
    "category": "Accelerated computing",
    "gpuNum": 1,
    "hideHardwareSpecs": false,
    "memoryGiB": 256,
    "name": "ml.g5.16xlarge",
    "vcpuNum": 64
   },
   {
    "_defaultOrder": 52,
    "_isFastLaunch": false,
    "category": "Accelerated computing",
    "gpuNum": 4,
    "hideHardwareSpecs": false,
    "memoryGiB": 192,
    "name": "ml.g5.12xlarge",
    "vcpuNum": 48
   },
   {
    "_defaultOrder": 53,
    "_isFastLaunch": false,
    "category": "Accelerated computing",
    "gpuNum": 4,
    "hideHardwareSpecs": false,
    "memoryGiB": 384,
    "name": "ml.g5.24xlarge",
    "vcpuNum": 96
   },
   {
    "_defaultOrder": 54,
    "_isFastLaunch": false,
    "category": "Accelerated computing",
    "gpuNum": 8,
    "hideHardwareSpecs": false,
    "memoryGiB": 768,
    "name": "ml.g5.48xlarge",
    "vcpuNum": 192
   },
   {
    "_defaultOrder": 55,
    "_isFastLaunch": false,
    "category": "Accelerated computing",
    "gpuNum": 8,
    "hideHardwareSpecs": false,
    "memoryGiB": 1152,
    "name": "ml.p4d.24xlarge",
    "vcpuNum": 96
   },
   {
    "_defaultOrder": 56,
    "_isFastLaunch": false,
    "category": "Accelerated computing",
    "gpuNum": 8,
    "hideHardwareSpecs": false,
    "memoryGiB": 1152,
    "name": "ml.p4de.24xlarge",
    "vcpuNum": 96
   },
   {
    "_defaultOrder": 57,
    "_isFastLaunch": false,
    "category": "Accelerated computing",
    "gpuNum": 0,
    "hideHardwareSpecs": false,
    "memoryGiB": 32,
    "name": "ml.trn1.2xlarge",
    "vcpuNum": 8
   },
   {
    "_defaultOrder": 58,
    "_isFastLaunch": false,
    "category": "Accelerated computing",
    "gpuNum": 0,
    "hideHardwareSpecs": false,
    "memoryGiB": 512,
    "name": "ml.trn1.32xlarge",
    "vcpuNum": 128
   },
   {
    "_defaultOrder": 59,
    "_isFastLaunch": false,
    "category": "Accelerated computing",
    "gpuNum": 0,
    "hideHardwareSpecs": false,
    "memoryGiB": 512,
    "name": "ml.trn1n.32xlarge",
    "vcpuNum": 128
   }
  ],
  "instance_type": "ml.t3.medium",
  "kernelspec": {
   "display_name": "Python 3 (Data Science 3.0)",
   "language": "python",
   "name": "python3__SAGEMAKER_INTERNAL__arn:aws:sagemaker:ap-northeast-1:102112518831:image/sagemaker-data-science-310-v1"
  },
  "language_info": {
   "codemirror_mode": {
    "name": "ipython",
    "version": 3
   },
   "file_extension": ".py",
   "mimetype": "text/x-python",
   "name": "python",
   "nbconvert_exporter": "python",
   "pygments_lexer": "ipython3",
   "version": "3.10.6"
  },
  "toc-autonumbering": true
 },
 "nbformat": 4,
 "nbformat_minor": 5
}
