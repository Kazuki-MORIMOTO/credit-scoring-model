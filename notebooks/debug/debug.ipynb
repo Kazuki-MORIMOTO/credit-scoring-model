{
 "cells": [
  {
   "cell_type": "markdown",
   "id": "6b1e2fbb-6ed8-40b3-b8ab-7b37ee090594",
   "metadata": {},
   "source": [
    "# 環境変数の設定\n",
    "- PROJECT_ROOT：プロジェクトのルートディレクトリの設定\n",
    "- PYTHONPATH：pythonがモジュールやパッケージを探すためのパス"
   ]
  },
  {
   "cell_type": "code",
   "execution_count": 2,
   "id": "327350eb-5500-4995-a497-b93862678f8c",
   "metadata": {
    "tags": []
   },
   "outputs": [],
   "source": [
    "import os\n",
    "import io\n",
    "import sys\n",
    "\n",
    "### 環境変数 CONFIG を 'prod' に設定\n",
    "os.environ[\"CONFIG\"] = \"prod\"\n",
    "\n",
    "os.environ[\"PROJECT_ROOT\"] = \"/root/credit-scoring-model\"\n",
    "os.environ[\"PYTHONPATH\"] = f\"$PYTHONPATH:{os.getenv('PROJECT_ROOT')}\""
   ]
  },
  {
   "cell_type": "markdown",
   "id": "9f9b6114-0596-440d-8ca0-045145ef4c52",
   "metadata": {},
   "source": [
    "# individual / train"
   ]
  },
  {
   "cell_type": "markdown",
   "id": "5582aff8-5f24-4f27-8d0e-3adf9ab1a10d",
   "metadata": {},
   "source": [
    "## extract.py"
   ]
  },
  {
   "cell_type": "code",
   "execution_count": 3,
   "id": "19a23e2c-6c80-4d37-9d23-439793e048b2",
   "metadata": {
    "tags": []
   },
   "outputs": [
    {
     "name": "stdout",
     "output_type": "stream",
     "text": [
      "execute prod env\n",
      "current time:2024-10-14_15:05:06\n",
      "-- Check start_query_execution`s response:\n",
      "{'QueryExecutionId': 'd0f6365f-a13a-46a5-bc4c-d3346e44d7ba',\n",
      " 'ResponseMetadata': {'HTTPHeaders': {'connection': 'keep-alive',\n",
      "                                      'content-length': '59',\n",
      "                                      'content-type': 'application/x-amz-json-1.1',\n",
      "                                      'date': 'Mon, 14 Oct 2024 06:05:07 GMT',\n",
      "                                      'x-amzn-requestid': '4233dd0e-6d5a-4dca-bc72-efbf507bbdda'},\n",
      "                      'HTTPStatusCode': 200,\n",
      "                      'RequestId': '4233dd0e-6d5a-4dca-bc72-efbf507bbdda',\n",
      "                      'RetryAttempts': 0}}\n",
      "wait...\n",
      "SUCCEEDED\n",
      "/root/credit-scoring-model/src/common/common_func.py:108: DtypeWarning: Columns (7,9) have mixed types. Specify dtype option on import or set low_memory=False.\n",
      "  df = pd.read_csv(io.BytesIO(response[\"Body\"].read()), encoding=\"utf-8\")\n",
      "df_ApplicationData shape:(142823, 40)\n",
      "start save to :kintojpn/credit-scoring-model/individual/data/raw/training/application_data2024-10-14_15:05:06_application_data.csv\n",
      "complete save to :kintojpn/credit-scoring-model/individual/data/raw/training/application_data2024-10-14_15:05:06_application_data.csv\n",
      "-- Check start_query_execution`s response:\n",
      "{'QueryExecutionId': '58bd9308-fb9b-4c6a-918b-8f1797e30ae4',\n",
      " 'ResponseMetadata': {'HTTPHeaders': {'connection': 'keep-alive',\n",
      "                                      'content-length': '59',\n",
      "                                      'content-type': 'application/x-amz-json-1.1',\n",
      "                                      'date': 'Mon, 14 Oct 2024 06:05:20 GMT',\n",
      "                                      'x-amzn-requestid': 'ae6aac8b-8d90-4f54-ae91-1a1ade584e7e'},\n",
      "                      'HTTPStatusCode': 200,\n",
      "                      'RequestId': 'ae6aac8b-8d90-4f54-ae91-1a1ade584e7e',\n",
      "                      'RetryAttempts': 0}}\n",
      "wait...\n",
      "wait...\n",
      "wait...\n",
      "SUCCEEDED\n",
      "/root/credit-scoring-model/src/common/common_func.py:108: DtypeWarning: Columns (1,30) have mixed types. Specify dtype option on import or set low_memory=False.\n",
      "  df = pd.read_csv(io.BytesIO(response[\"Body\"].read()), encoding=\"utf-8\")\n",
      "df_CarData shape:(142823, 60)\n",
      "start save to :kintojpn/credit-scoring-model/individual/data/raw/training/car_data2024-10-14_15:05:06_car_data.csv\n",
      "complete save to :kintojpn/credit-scoring-model/individual/data/raw/training/car_data2024-10-14_15:05:06_car_data.csv\n",
      "-- Check start_query_execution`s response:\n",
      "{'QueryExecutionId': 'ed8394d6-2a34-46c9-aa1e-402f3f13bf90',\n",
      " 'ResponseMetadata': {'HTTPHeaders': {'connection': 'keep-alive',\n",
      "                                      'content-length': '59',\n",
      "                                      'content-type': 'application/x-amz-json-1.1',\n",
      "                                      'date': 'Mon, 14 Oct 2024 06:05:49 GMT',\n",
      "                                      'x-amzn-requestid': '03af1b92-bf06-4648-86d0-6fb1843b2c4a'},\n",
      "                      'HTTPStatusCode': 200,\n",
      "                      'RequestId': '03af1b92-bf06-4648-86d0-6fb1843b2c4a',\n",
      "                      'RetryAttempts': 0}}\n",
      "wait...\n",
      "SUCCEEDED\n",
      "df_ChomonixData shape:(86864, 7)\n",
      "start save to :kintojpn/credit-scoring-model/individual/data/raw/training/chomonix2024-10-14_15:05:06_chomonix_data.csv\n",
      "complete save to :kintojpn/credit-scoring-model/individual/data/raw/training/chomonix2024-10-14_15:05:06_chomonix_data.csv\n",
      "df_Weblog shape:(45496, 37)\n",
      "start save to :kintojpn/credit-scoring-model/individual/data/raw/training/weblog_data2024-10-14_15:05:06_weblog_data.csv\n",
      "complete save to :kintojpn/credit-scoring-model/individual/data/raw/training/weblog_data2024-10-14_15:05:06_weblog_data.csv\n",
      "df_KINTOLicenseData shape:(127637, 10)\n",
      "start save to :kintojpn/credit-scoring-model/individual/data/raw/training/kinto_licence_data2024-10-14_15:05:06_kinto_licence_data.csv\n",
      "complete save to :kintojpn/credit-scoring-model/individual/data/raw/training/kinto_licence_data2024-10-14_15:05:06_kinto_licence_data.csv\n"
     ]
    }
   ],
   "source": [
    "### extract.pyの実行\n",
    "!{sys.executable} /root/credit-scoring-model/src/individual/train/extract.py"
   ]
  },
  {
   "cell_type": "markdown",
   "id": "ee5884d5-433e-4c4d-94fa-45d1caaae378",
   "metadata": {
    "tags": []
   },
   "source": [
    "## cleansing.py"
   ]
  },
  {
   "cell_type": "code",
   "execution_count": 4,
   "id": "ae965303-10a3-4676-a0bb-742c53386dc1",
   "metadata": {},
   "outputs": [
    {
     "name": "stdout",
     "output_type": "stream",
     "text": [
      "execute prod env\n",
      "current time:2024-10-14_15:06:00\n",
      " Start of cleansing of TFC processing data\n",
      "/root/credit-scoring-model/src/common/common_func.py:36: DtypeWarning: Columns (24,32,107,109) have mixed types. Specify dtype option on import or set low_memory=False.\n",
      "  df = pd.read_csv(io.BytesIO(response[\"Body\"].read()),\n",
      "【個人】与信結果データ_201902_202312.csv:(87120, 124)\n",
      "【個人】与信結果データ_202401_202405.csv:(11656, 124)\n",
      "【個人】説明変数データ_201902_202312.csv:(87120, 206)\n",
      "【個人】説明変数データ_202401_202405.csv:(11656, 206)\n",
      "/root/credit-scoring-model/src/common/common_func.py:36: DtypeWarning: Columns (9,36,37) have mixed types. Specify dtype option on import or set low_memory=False.\n",
      "  df = pd.read_csv(io.BytesIO(response[\"Body\"].read()),\n",
      "【個人】更新版_目的変数データ_201902_202405.csv:(50651, 89)\n",
      "【個人】免許証データ_201902_202312.csv:(87120, 2)\n",
      "【個人】与信結果データ_カラム名.csv:(130, 2)\n",
      "【個人】説明変数データ_カラム名.csv:(206, 2)\n",
      "【個人】目的変数データ_カラム名.csv:(86, 2)\n",
      "【個人】免許証データ_カラム名.csv:(2, 2)\n",
      "df_indivisual_result shape:(98776, 124)\n",
      "df_indivisual_explain shape:(98776, 206)\n",
      "df_indivisual_result shape:(98776, 124)\n",
      "df_indivisual_result shape:(98776, 120)\n",
      "df_indivisual_object nunique 契約番号_object:50651\n",
      "df_indivisual_license nunique 免許証番号_license:68696\n",
      "期失処理日_object\n",
      "merge result and explain:(98776, 327) , nunique 申込書受付番号_result:98776\n",
      "merge tfc and object:(98776, 419), nunique 申込書受付番号_result:98776\n",
      "merge tfc and object:(98776, 419), nunique 契約番号_object:50645\n",
      "merge tfc and license:(98776, 421), nunique 申込書受付番号_result:98776\n",
      "df_tfc shape: (98776, 421)\n",
      "df_tfc shape: (98758, 421)\n",
      " Start of cleansing of KINTO Inner data \n",
      "\n",
      "Latest file name of Application data : 2024-10-14_15:05:06_application_data.csv \n",
      "/root/credit-scoring-model/src/common/common_func.py:36: DtypeWarning: Columns (7,9) have mixed types. Specify dtype option on import or set low_memory=False.\n",
      "  df = pd.read_csv(io.BytesIO(response[\"Body\"].read()),\n",
      "2024-10-14_15:05:06_application_data.csv:(142823, 40)\n",
      "\n",
      "Latest file name of car data : 2024-10-14_15:05:06_car_data.csv\n",
      "/root/credit-scoring-model/src/common/common_func.py:36: DtypeWarning: Columns (1,30) have mixed types. Specify dtype option on import or set low_memory=False.\n",
      "  df = pd.read_csv(io.BytesIO(response[\"Body\"].read()),\n",
      "2024-10-14_15:05:06_car_data.csv:(142823, 60) \n",
      "\n",
      "Latest file name of chomonix data : 2024-10-14_15:05:06_chomonix_data.csv\n",
      "2024-10-14_15:05:06_chomonix_data.csv:(86864, 7) \n",
      "\n",
      "Latest file name of weblog data : 2024-10-14_15:05:06_weblog_data.csv\n",
      "2024-10-14_15:05:06_weblog_data.csv:(45496, 37) \n",
      "\n",
      "Latest file name of KINTO Licence data : 2024-10-14_15:05:06_kinto_licence_data.csv\n",
      "2024-10-14_15:05:06_kinto_licence_data.csv:(127637, 10) \n",
      "\n",
      "df_CarData nunique 契約管理番号:99234\n",
      "df_KINTOLicenceData nunique 運転免許番号:94282\n",
      "merge df_CarData and df_ApplicationData:(142823, 95), nunique 契約ID:142823\n",
      "merge df_kinto and df_WeblogData:(142823, 132), nunique 申込書受付番号_result:142823\n",
      "merge df_kinto and df_chomonix:(142823, 139), nunique 申込書受付番号_result:142823\n",
      "merge df_kinto and df_KINTOLicenceData:(142823, 149), nunique 申込書受付番号_result:142823\n",
      "df_kinto shape: (142823, 149)\n",
      "df_kinto shape: (127259, 149)\n",
      " Start of Cleansing of merge processing data\n",
      "df_kinto shape:(127259, 150)\n",
      "df_tfc shape:(98758, 422)\n",
      "df_merge shape: (98758, 572)\n",
      "df_merge shape: (98625, 572)\n",
      "create_objective_variable\n",
      "value_counts:within_12months_CreditLoss\n",
      "0    98191\n",
      "1      434\n",
      "Name: count, dtype: int64\n",
      "start save to :kintojpn/credit-scoring-model/individual/data/cleansing/training2024-10-14_15:06:00_cleansing.csv\n",
      "complete save to :kintojpn/credit-scoring-model/individual/data/cleansing/training2024-10-14_15:06:00_cleansing.csv\n"
     ]
    }
   ],
   "source": [
    "### cleansing.pyの実行\n",
    "!{sys.executable} /root/credit-scoring-model/src/individual/train/cleansing.py"
   ]
  },
  {
   "cell_type": "markdown",
   "id": "387d8a06-5931-4e7b-8632-9d367a5fee11",
   "metadata": {},
   "source": [
    "## preprocess.py"
   ]
  },
  {
   "cell_type": "code",
   "execution_count": 20,
   "id": "1c803b8f-69a7-47a6-8e60-6f295088a522",
   "metadata": {
    "tags": []
   },
   "outputs": [
    {
     "name": "stdout",
     "output_type": "stream",
     "text": [
      "execute prod env\n",
      "current time:2024-10-14_23:25:49\n",
      "INFO:__main__:----- Start of feature engineering Class -----\n",
      "INFO:__main__:-- start read_data_from_cleansing() --\n",
      "INFO:__main__:Latest file name of Application data : 2024-10-14_15:06:00_cleansing.csv \n",
      "/root/credit-scoring-model/src/common/common_func.py:36: DtypeWarning: Columns (9,24,32,80,332,333,334,335,336,347,349,350,351,363,364,398,399,400,401,402,403,404,406,409,416,417,418,422,425,426,427,428,430,431,432,434,437,438,439,440,441,442,444,445,447,449,450,452,453,454,455,458,468,469,470,471,472,473,476,477,478,479,482,483,484,485,486,488,489,490,491,492,493,494,495,496,497,498,499,500,501,503,504,507,511,512,513,516,517,518,519,521,522,523,554,555,556,557,558,559,560,561,562,563,564,566,567,568,569,570) have mixed types. Specify dtype option on import or set low_memory=False.\n",
      "  df = pd.read_csv(io.BytesIO(response[\"Body\"].read()),\n",
      "INFO:__main__:2024-10-14_15:06:00_cleansing.csv:(98625, 577)\n",
      "\n",
      "INFO:__main__:TFC固有情報カラム.csv:(99, 4)\n",
      "\n",
      "INFO:__main__:-- start filter_credit_results --\n",
      "INFO:__main__:df shape : (69160, 577)\n",
      "INFO:__main__:df_reject shape : (25653, 577)\n",
      "INFO:__main__:-- start delete_leak_columns() --\n",
      "INFO:__main__:df_CleansingData shape :(69160, 319)\n",
      "INFO:__main__:df_CleansingData_reject shape :(25653, 319)\n",
      "INFO:__main__:-- Delete tfc original columns --\n",
      "INFO:__main__:df_CleansingData shape :(69160, 220)\n",
      "INFO:__main__:df_CleansingData_reject shape :(25653, 220)\n",
      "INFO:__main__:-- Label encoding --\n",
      "INFO:__main__:start df encoding \n",
      "INFO:__main__:-- Create train/valid/test data --\n",
      "INFO:__main__:df_CleansingData shape :(69160, 220)\n",
      "INFO:__main__:df_CleansingData_reject shape :(25653, 220)\n",
      "INFO:__main__:cv start:2019-03-01 11:19:01 - end:2021-12-30 22:48:42\n",
      "INFO:__main__:cv shape : (14834, 220)\n",
      "INFO:__main__:cv count values:within_12months_CreditLoss\n",
      "0    14576\n",
      "1      258\n",
      "Name: count, dtype: int64\n",
      "INFO:__main__:train start:2019-03-01 11:19:01 - end:2021-11-29 23:15:44\n",
      "INFO:__main__:train shape : (14090, 220)\n",
      "INFO:__main__:train count values:within_12months_CreditLoss\n",
      "0    13852\n",
      "1      238\n",
      "Name: count, dtype: int64\n",
      "INFO:__main__:valid start:2021-11-30 08:03:57 - end:2021-12-31 21:21:23\n",
      "INFO:__main__:valid shape : (752, 220)\n",
      "INFO:__main__:valid count values:within_12months_CreditLoss\n",
      "0    732\n",
      "1     20\n",
      "Name: count, dtype: int64\n",
      "INFO:__main__:test start:2022-01-01 00:04:13 - end:2022-11-29 23:46:15\n",
      "INFO:__main__:test shape : (11154, 220)\n",
      "INFO:__main__:test count values:within_12months_CreditLoss\n",
      "0    11038\n",
      "1      116\n",
      "Name: count, dtype: int64\n",
      "start save to :kintojpn/credit-scoring-model/individual/data/preprocessed/training2024-10-14_23:25:49_cv.csv\n",
      "complete save to :kintojpn/credit-scoring-model/individual/data/preprocessed/training2024-10-14_23:25:49_cv.csv\n",
      "start save to :kintojpn/credit-scoring-model/individual/data/preprocessed/training2024-10-14_23:25:49_train.csv\n",
      "complete save to :kintojpn/credit-scoring-model/individual/data/preprocessed/training2024-10-14_23:25:49_train.csv\n",
      "start save to :kintojpn/credit-scoring-model/individual/data/preprocessed/training2024-10-14_23:25:49_valid.csv\n",
      "complete save to :kintojpn/credit-scoring-model/individual/data/preprocessed/training2024-10-14_23:25:49_valid.csv\n",
      "start save to :kintojpn/credit-scoring-model/individual/data/preprocessed/training2024-10-14_23:25:49_test.csv\n",
      "complete save to :kintojpn/credit-scoring-model/individual/data/preprocessed/training2024-10-14_23:25:49_test.csv\n"
     ]
    }
   ],
   "source": [
    "### preprocess.pyの実行\n",
    "!{sys.executable} /root/credit-scoring-model/src/individual/train/preprocess.py"
   ]
  },
  {
   "cell_type": "markdown",
   "id": "dd80fbce-dd77-4c5f-8282-043a0f7759f3",
   "metadata": {},
   "source": [
    "## train.py"
   ]
  },
  {
   "cell_type": "code",
   "execution_count": 94,
   "id": "f37b496d-c2fc-47a9-9ead-349e6b8dfad1",
   "metadata": {},
   "outputs": [
    {
     "name": "stdout",
     "output_type": "stream",
     "text": [
      "execute prod env\n",
      "current time:2024-10-16_18:52:08\n",
      "INFO:__main__:----- Start of train Class -----\n",
      "INFO:__main__:-- start read_data_from_preprocessed() --\n",
      "INFO:__main__:Latest file name of CV data : 2024-10-14_23:25:49_cv.csv \n",
      "INFO:__main__:2024-10-14_23:25:49_cv.csv:(14834, 220)\n",
      "\n",
      "INFO:__main__:Latest file name of Train data : 2024-10-14_23:25:49_train.csv \n",
      "INFO:__main__:2024-10-14_23:25:49_train.csv:(14090, 220)\n",
      "\n",
      "INFO:__main__:Latest file name of Valid data : 2024-10-14_23:25:49_valid.csv \n",
      "INFO:__main__:2024-10-14_23:25:49_valid.csv:(752, 220)\n",
      "\n",
      "INFO:__main__:Latest file name of Test data : 2024-10-14_23:25:49_test.csv \n",
      "INFO:__main__:2024-10-14_23:25:49_test.csv:(11154, 220)\n",
      "\n",
      "INFO:__main__:-- start creating_objective_variable() --\n",
      "INFO:__main__:df_X_cv shape:(14834, 217)   df_y_cv:(14834,)\n",
      "INFO:__main__:df_X_train shape:(14090, 217)   df_y_train:(14090,)\n",
      "INFO:__main__:df_X_valid shape:(752, 217)   df_y_valid:(752,)\n",
      "INFO:__main__:df_X_test shape:(11154, 217)   df_y_test:(11154,)\n",
      "INFO:__main__:-- start exploring_hyperparameters() --\n",
      "\u001b[32m[I 2024-10-16 09:52:10,007]\u001b[0m A new study created in memory with name: no-name-47907f26-ebf9-4e68-9112-778a5caaa2e4\u001b[0m\n",
      "\u001b[32m[I 2024-10-16 09:52:13,145]\u001b[0m Trial 0 finished with value: 0.06280069797125645 and parameters: {'learning_rate': 0.09724978457187994, 'num_leaves': 35, 'feature_fraction': 0.7681346170447296, 'bagging_fraction': 0.6449458831448972, 'bagging_freq': 1, 'min_child_samples': 24}. Best is trial 0 with value: 0.06280069797125645.\u001b[0m\n",
      "\u001b[32m[I 2024-10-16 09:52:16,421]\u001b[0m Trial 1 finished with value: 0.062115309837478 and parameters: {'learning_rate': 0.09203068901689977, 'num_leaves': 29, 'feature_fraction': 0.8136902386442413, 'bagging_fraction': 0.9407560560368812, 'bagging_freq': 6, 'min_child_samples': 58}. Best is trial 1 with value: 0.062115309837478.\u001b[0m\n",
      "Best trial:\n",
      "  Value:  0.062115309837478\n",
      "  Params: \n",
      "    learning_rate: 0.09203068901689977\n",
      "    num_leaves: 29\n",
      "    feature_fraction: 0.8136902386442413\n",
      "    bagging_fraction: 0.9407560560368812\n",
      "    bagging_freq: 6\n",
      "    min_child_samples: 58\n",
      "INFO:__main__:-- start train_with_best_parameters() --\n",
      "INFO:__main__:Convert to LightGBM dataset format\n",
      "INFO:__main__:Setting Best parameters\n",
      "[1]\tvalid_0's binary_logloss: 0.107389\n",
      "Training until validation scores don't improve for 10 rounds\n",
      "[2]\tvalid_0's binary_logloss: 0.101163\n",
      "[3]\tvalid_0's binary_logloss: 0.0974792\n",
      "[4]\tvalid_0's binary_logloss: 0.0947454\n",
      "[5]\tvalid_0's binary_logloss: 0.0899053\n",
      "[6]\tvalid_0's binary_logloss: 0.0864406\n",
      "[7]\tvalid_0's binary_logloss: 0.0853267\n",
      "[8]\tvalid_0's binary_logloss: 0.0843446\n",
      "[9]\tvalid_0's binary_logloss: 0.0834399\n",
      "[10]\tvalid_0's binary_logloss: 0.0830454\n",
      "[11]\tvalid_0's binary_logloss: 0.0822612\n",
      "[12]\tvalid_0's binary_logloss: 0.0816011\n",
      "[13]\tvalid_0's binary_logloss: 0.0807146\n",
      "[14]\tvalid_0's binary_logloss: 0.0813293\n",
      "[15]\tvalid_0's binary_logloss: 0.0807583\n",
      "[16]\tvalid_0's binary_logloss: 0.0804044\n",
      "[17]\tvalid_0's binary_logloss: 0.0810792\n",
      "[18]\tvalid_0's binary_logloss: 0.081238\n",
      "[19]\tvalid_0's binary_logloss: 0.0810244\n",
      "[20]\tvalid_0's binary_logloss: 0.0805264\n",
      "[21]\tvalid_0's binary_logloss: 0.0804799\n",
      "[22]\tvalid_0's binary_logloss: 0.0801818\n",
      "[23]\tvalid_0's binary_logloss: 0.079314\n",
      "[24]\tvalid_0's binary_logloss: 0.079147\n",
      "[25]\tvalid_0's binary_logloss: 0.0794361\n",
      "[26]\tvalid_0's binary_logloss: 0.0796685\n",
      "[27]\tvalid_0's binary_logloss: 0.0799049\n",
      "[28]\tvalid_0's binary_logloss: 0.0799819\n",
      "[29]\tvalid_0's binary_logloss: 0.0797124\n",
      "[30]\tvalid_0's binary_logloss: 0.0799198\n",
      "[31]\tvalid_0's binary_logloss: 0.0805076\n",
      "[32]\tvalid_0's binary_logloss: 0.0803409\n",
      "[33]\tvalid_0's binary_logloss: 0.0809107\n",
      "[34]\tvalid_0's binary_logloss: 0.0812968\n",
      "Early stopping, best iteration is:\n",
      "[24]\tvalid_0's binary_logloss: 0.079147\n",
      "INFO:__main__:-- start save_and_compress_model() --\n",
      "INFO:__main__:create model folder\n",
      "INFO:__main__:Save the model locally in txt format\n",
      "INFO:__main__:Compressed in tar.gz format\n",
      "INFO:__main__:Upload model to s3\n",
      "INFO:__main__:kintojpn/credit-scoring-model/individual/models\n",
      "INFO:src.common.common_func:bucket:prod-analysis-platform-sagemaker-ap-northeast-1\n",
      "INFO:src.common.common_func:key:kintojpn/credit-scoring-model/individual/models\n",
      "INFO:src.common.common_func:upload file_name:/root/credit-scoring-model/models/individual/model.tar.gz\n",
      "INFO:src.common.common_func:Uploaded original file: /root/credit-scoring-model/models/individual/model.tar.gz\n",
      "INFO:src.common.common_func:Uploaded backup file: 2024-10-16_09-52-16_model.tar.gz\n"
     ]
    }
   ],
   "source": [
    "### train.pyの実行\n",
    "!{sys.executable} /root/credit-scoring-model/src/individual/train/train.py"
   ]
  },
  {
   "cell_type": "code",
   "execution_count": null,
   "id": "33dfe028-ffce-4cc2-a5e9-aa643c246d63",
   "metadata": {},
   "outputs": [],
   "source": []
  },
  {
   "cell_type": "markdown",
   "id": "f07ff206-b9b5-4273-914b-0d79d45afe80",
   "metadata": {},
   "source": [
    "# モデルデプロイテスト"
   ]
  },
  {
   "cell_type": "code",
   "execution_count": 38,
   "id": "04926a67-11a8-4273-a0b9-6785199dd92f",
   "metadata": {
    "tags": []
   },
   "outputs": [],
   "source": [
    "# SageMaker関連のモジュール\n",
    "import sagemaker\n",
    "from sagemaker.session import Session  # SageMakerセッションの生成\n",
    "from sagemaker.sklearn import SKLearnModel  # Scikit-learnモデル用のモジュール\n",
    "from sagemaker.async_inference import AsyncInferenceConfig  # 非同期推論設定\n",
    "from sagemaker.workflow.pipeline import Pipeline  # SageMaker Pipelineの設定\n",
    "from sagemaker.workflow.steps import ProcessingStep, TrainingStep  # パイプラインのステップ\n",
    "from sagemaker.processing import ScriptProcessor  # スクリプトプロセッサ\n",
    "from sagemaker.sklearn.processing import SKLearnProcessor  # Scikit-learn用のプロセッサ\n",
    "from sagemaker.workflow.pipeline_context import PipelineSession  # パイプラインセッション\n",
    "from sagemaker.inputs import TrainingInput  # トレーニングデータの入力\n",
    "from sagemaker.workflow.step_collections import RegisterModel  # モデル登録\n",
    "from sagemaker.model_metrics import MetricsSource, ModelMetrics  # モデルメトリクス\n",
    "from sagemaker.workflow.parameters import ParameterString  # パイプラインパラメータ\n",
    "from sagemaker.workflow.functions import Join  # ステップ間でのパス結合\n",
    "from sagemaker.model import Model\n",
    "from sagemaker import get_execution_role\n",
    "from sagemaker.image_uris import retrieve\n",
    "from sagemaker.predictor import Predictor\n",
    "from sagemaker.serializers import JSONSerializer, CSVSerializer\n",
    "from sagemaker.deserializers import JSONDeserializer, CSVDeserializer\n",
    "from sagemaker.local import LocalSession\n",
    "\n",
    "# 必要な標準ライブラリ\n",
    "import os  # OS操作\n",
    "import json  # JSON操作\n",
    "import logging  # ロギング設定\n",
    "from io import BytesIO  # バイトストリーム\n",
    "from time import sleep  # 一時停止処理\n",
    "from uuid import uuid4  # UUID生成\n",
    "from typing import Final  # 定数宣言用\n",
    "import tarfile\n",
    "import importlib\n",
    "\n",
    "# AWS関連モジュール\n",
    "import boto3  # AWS SDK for Python\n",
    "\n",
    "# データ分析・機械学習関連\n",
    "import numpy as np  # 数値計算ライブラリ\n",
    "import pandas as pd  # データ処理・分析\n",
    "import lightgbm as lgb  # LightGBMモデル\n",
    "from sklearn.model_selection import train_test_split  # データ分割\n",
    "from sklearn.datasets import make_classification  # サンプルデータ生成\n",
    "\n",
    "# ログの設定\n",
    "logging.basicConfig(level=logging.INFO)\n",
    "logger = logging.getLogger(__name__)"
   ]
  },
  {
   "cell_type": "code",
   "execution_count": 12,
   "id": "9f2db03b-070c-45c2-a244-fdda454b7759",
   "metadata": {
    "tags": []
   },
   "outputs": [
    {
     "name": "stderr",
     "output_type": "stream",
     "text": [
      "INFO:__main__:Initialized SageMaker settings with role=arn:aws:iam::252553846966:role/prod-mlops-platform-sagemaker-execution-role, region=ap-northeast-1, bucket=sagemaker-ap-northeast-1-252553846966, s3_prefix=lightgbm-model-deploy_csv_ver\n"
     ]
    }
   ],
   "source": [
    "def initialize_sagemaker_settings():\n",
    "    \"\"\"\n",
    "    SageMakerとAWSの事前設定を行う関数\n",
    "\n",
    "    :return: 設定情報を含む辞書\n",
    "    \"\"\"\n",
    "    # SageMakerクライアントとセッションの初期化\n",
    "    smr_client: Final = boto3.client('sagemaker-runtime')\n",
    "    sm_client: Final = boto3.client('sagemaker')\n",
    "    s3_client: Final = boto3.client('s3')\n",
    "    session = sagemaker.Session()\n",
    "\n",
    "    # エンドポイントの状態を確認するためのウェイター設定\n",
    "    endpoint_inservice_waiter: Final = sm_client.get_waiter('endpoint_in_service')\n",
    "\n",
    "    # SageMakerの実行ロールとリージョンの取得\n",
    "    role: Final[str] = sagemaker.get_execution_role()\n",
    "    region: Final[str] = session.boto_region_name\n",
    "\n",
    "    # デフォルトのS3バケットとプレフィックスの設定\n",
    "    bucket: Final[str] = session.default_bucket()\n",
    "    s3_prefix = 'lightgbm-model-deploy_csv_ver'\n",
    "\n",
    "    # 設定情報のロギング\n",
    "    logger.info(f\"Initialized SageMaker settings with role={role}, region={region}, bucket={bucket}, s3_prefix={s3_prefix}\")\n",
    "\n",
    "    return {\n",
    "        \"smr_client\": smr_client,\n",
    "        \"sm_client\": sm_client,\n",
    "        \"s3_client\": s3_client,\n",
    "        \"endpoint_inservice_waiter\": endpoint_inservice_waiter,\n",
    "        \"role\": role,\n",
    "        \"region\": region,\n",
    "        \"bucket\": bucket,\n",
    "        \"session\": session,\n",
    "        \"s3_prefix\": s3_prefix\n",
    "    }\n",
    "\n",
    "# 設定の初期化\n",
    "sagemaker_settings = initialize_sagemaker_settings()"
   ]
  },
  {
   "cell_type": "markdown",
   "id": "54a29f87-e9f5-461e-a691-7e3c5c8968d2",
   "metadata": {},
   "source": [
    "### テスト実行"
   ]
  },
  {
   "cell_type": "code",
   "execution_count": 14,
   "id": "3dbd9af2-b27b-43c9-a19c-fb785202a0ae",
   "metadata": {
    "tags": []
   },
   "outputs": [],
   "source": [
    "def deploy_model_to_sagemaker(model_s3_uri: str, role: str, entry_point: str, source_dir: str, session: Session,\n",
    "                              framework: str = \"pytorch\", version: str = \"2.1\", py_version: str = \"py310\",\n",
    "                              instance_type: str = \"ml.m5.large\", initial_instance_count: int = 1,\n",
    "                              endpoint_name: str = \"lightgbm-endpoint\") -> Model:\n",
    "    \"\"\"\n",
    "    SageMakerにモデルをデプロイする関数\n",
    "\n",
    "    :param model_s3_uri: S3上のモデルアーティファクトのURI\n",
    "    :param role: SageMaker用のIAMロール\n",
    "    :param entry_point: 推論用スクリプトのパス\n",
    "    :param source_dir: entry_pointを含むディレクトリ\n",
    "    :param session: SageMakerのセッション\n",
    "    :param framework: 使用するフレームワーク (デフォルト: 'pytorch')\n",
    "    :param version: フレームワークのバージョン (デフォルト: '2.1')\n",
    "    :param py_version: Pythonバージョン (デフォルト: 'py310')\n",
    "    :param instance_type: デプロイ用のインスタンスタイプ (デフォルト: 'ml.m5.large')\n",
    "    :param initial_instance_count: デプロイ用のインスタンス数 (デフォルト: 1)\n",
    "    :param endpoint_name: デプロイするエンドポイントの名前 (デフォルト: 'lightgbm-endpoint')\n",
    "    :return: デプロイされたモデルのPredictorオブジェクト\n",
    "    \"\"\"\n",
    "    # コンテナURIの取得\n",
    "    logger.info(f\"Retrieving container URI for framework={framework}, version={version}, region={session.boto_region_name}\")\n",
    "    container_uri = retrieve(\n",
    "        framework=framework,\n",
    "        region=session.boto_region_name,\n",
    "        version=version,\n",
    "        py_version=py_version,\n",
    "        image_scope=\"inference\",\n",
    "        instance_type=instance_type,\n",
    "    )\n",
    "\n",
    "    # Modelオブジェクトの作成\n",
    "    logger.info(\"Creating SageMaker model object...\")\n",
    "    model = Model(\n",
    "        model_data=model_s3_uri,\n",
    "        role=role,\n",
    "        entry_point=entry_point,\n",
    "        source_dir=source_dir,\n",
    "        image_uri=container_uri,\n",
    "        sagemaker_session=session\n",
    "    )\n",
    "\n",
    "    # エンドポイントのデプロイ\n",
    "    logger.info(f\"Deploying model to endpoint {endpoint_name} with instance type {instance_type}...\")\n",
    "    predictor = model.deploy(\n",
    "        initial_instance_count=initial_instance_count,\n",
    "        instance_type=instance_type,\n",
    "        endpoint_name=endpoint_name\n",
    "    )\n",
    "\n",
    "    logger.info(f\"Model deployed successfully at endpoint: {endpoint_name}\")\n",
    "    return predictor\n",
    "\n",
    "# 使用例\n",
    "entry_point = 'inference.py'\n",
    "source_dir = \"/root/credit-scoring-model/src/individual/predict\"  # 推論スクリプトと依存ファイルを含むディレクトリ\n",
    "endpoint_name = \"individual-test-1\"\n",
    "# predictor = deploy_model_to_sagemaker(model_s3_uri = \"s3://prod-analysis-platform-sagemaker-ap-northeast-1/kintojpn/credit-scoring-model/individual/models/2024-10-15_11:37:55.tar.gz\",\n",
    "#                                       role = sagemaker_settings[\"role\"],\n",
    "#                                       entry_point = entry_point,\n",
    "#                                       source_dir = source_dir,\n",
    "#                                       session = sagemaker_settings[\"session\"],\n",
    "#                                       endpoint_name = endpoint_name)"
   ]
  },
  {
   "cell_type": "markdown",
   "id": "01d5cb28-0ce4-4eed-a281-ddb8cf1ad25b",
   "metadata": {},
   "source": [
    "### 推論テスト"
   ]
  },
  {
   "cell_type": "code",
   "execution_count": 83,
   "id": "f8ca759d-c489-46ac-92c8-15d699557da2",
   "metadata": {
    "tags": []
   },
   "outputs": [],
   "source": [
    "\"\"\"\n",
    "read csv from s3\n",
    "\"\"\"\n",
    "def read_csv_from_s3(bucket: str, key: str, filename: str, encoding: str):\n",
    "    filepath = os.path.join(key, filename)\n",
    "    response = boto3.resource(\"s3\").Bucket(bucket).Object(key=filepath).get()\n",
    "    df = pd.read_csv(io.BytesIO(response[\"Body\"].read()), \n",
    "                     encoding = encoding,\n",
    "                     index_col=None)\n",
    "    return df\n",
    "\n",
    "df = read_csv_from_s3(bucket = \"prod-analysis-platform-sagemaker-ap-northeast-1\",\n",
    "                                key = \"kintojpn/credit-scoring-model/individual/data/preprocessed/deploymodel_input_testdata\",\n",
    "                                filename = \"test.csv\",\n",
    "                                encoding = \"utf-8\").drop([\"Unnamed: 0\",\"申込書受付番号_explain\",\"都道府県(個人)\",\"都道府県(法人)\",], axis=1)\n",
    "\n",
    "input_data = {\"data\": df.loc[[0]].to_dict(orient='records')}"
   ]
  },
  {
   "cell_type": "code",
   "execution_count": 84,
   "id": "c33f93e4-33ae-4599-8bb2-0f6f428da7a2",
   "metadata": {
    "tags": []
   },
   "outputs": [
    {
     "name": "stderr",
     "output_type": "stream",
     "text": [
      "INFO:__main__:Creating Predictor object for endpoint 'individual-test-1'\n",
      "INFO:__main__:Sending data to the endpoint for prediction\n"
     ]
    },
    {
     "name": "stdout",
     "output_type": "stream",
     "text": [
      "individual-test-1\n",
      "1\n"
     ]
    },
    {
     "ename": "ModelError",
     "evalue": "An error occurred (ModelError) when calling the InvokeEndpoint operation: Received server error (0) from primary with message \"Your invocation timed out while waiting for a response from container primary. Review the latency metrics for each container in Amazon CloudWatch, resolve the issue, and try again.\". See https://ap-northeast-1.console.aws.amazon.com/cloudwatch/home?region=ap-northeast-1#logEventViewer:group=/aws/sagemaker/Endpoints/individual-test-1 in account 252553846966 for more information.",
     "output_type": "error",
     "traceback": [
      "\u001b[0;31m---------------------------------------------------------------------------\u001b[0m",
      "\u001b[0;31mModelError\u001b[0m                                Traceback (most recent call last)",
      "Cell \u001b[0;32mIn[84], line 35\u001b[0m\n\u001b[1;32m     33\u001b[0m \u001b[38;5;28mprint\u001b[39m(\u001b[38;5;28mlen\u001b[39m(input_data))\n\u001b[1;32m     34\u001b[0m session \u001b[38;5;241m=\u001b[39m sagemaker_settings[\u001b[38;5;124m\"\u001b[39m\u001b[38;5;124msession\u001b[39m\u001b[38;5;124m\"\u001b[39m]  \u001b[38;5;66;03m# 事前に初期化したSageMaker設定を使用\u001b[39;00m\n\u001b[0;32m---> 35\u001b[0m prediction_result \u001b[38;5;241m=\u001b[39m \u001b[43mtest_endpoint_prediction\u001b[49m\u001b[43m(\u001b[49m\u001b[43mendpoint_name\u001b[49m\u001b[43m \u001b[49m\u001b[38;5;241;43m=\u001b[39;49m\u001b[43m \u001b[49m\u001b[43mendpoint_name\u001b[49m\u001b[43m,\u001b[49m\n\u001b[1;32m     36\u001b[0m \u001b[43m                                             \u001b[49m\u001b[43minput_data\u001b[49m\u001b[43m \u001b[49m\u001b[38;5;241;43m=\u001b[39;49m\u001b[43m \u001b[49m\u001b[43minput_data\u001b[49m\u001b[43m,\u001b[49m\n\u001b[1;32m     37\u001b[0m \u001b[43m                                             \u001b[49m\u001b[43msession\u001b[49m\u001b[43m \u001b[49m\u001b[38;5;241;43m=\u001b[39;49m\u001b[43m \u001b[49m\u001b[43msession\u001b[49m\u001b[43m)\u001b[49m\n\u001b[1;32m     39\u001b[0m \u001b[38;5;66;03m# 結果の表示\u001b[39;00m\n\u001b[1;32m     40\u001b[0m \u001b[38;5;28mprint\u001b[39m(prediction_result[\u001b[38;5;124m'\u001b[39m\u001b[38;5;124mpredictions\u001b[39m\u001b[38;5;124m'\u001b[39m])\n",
      "Cell \u001b[0;32mIn[84], line 25\u001b[0m, in \u001b[0;36mtest_endpoint_prediction\u001b[0;34m(endpoint_name, input_data, session, serializer, deserializer)\u001b[0m\n\u001b[1;32m     22\u001b[0m logger\u001b[38;5;241m.\u001b[39minfo(\u001b[38;5;124m\"\u001b[39m\u001b[38;5;124mSending data to the endpoint for prediction\u001b[39m\u001b[38;5;124m\"\u001b[39m)\n\u001b[1;32m     24\u001b[0m \u001b[38;5;66;03m# 推論の実行\u001b[39;00m\n\u001b[0;32m---> 25\u001b[0m response \u001b[38;5;241m=\u001b[39m \u001b[43mpredictor\u001b[49m\u001b[38;5;241;43m.\u001b[39;49m\u001b[43mpredict\u001b[49m\u001b[43m(\u001b[49m\u001b[43minput_data\u001b[49m\u001b[43m)\u001b[49m\n\u001b[1;32m     27\u001b[0m logger\u001b[38;5;241m.\u001b[39minfo(\u001b[38;5;124m\"\u001b[39m\u001b[38;5;124mPrediction completed\u001b[39m\u001b[38;5;124m\"\u001b[39m)\n\u001b[1;32m     28\u001b[0m \u001b[38;5;28;01mreturn\u001b[39;00m response\n",
      "File \u001b[0;32m/opt/conda/lib/python3.10/site-packages/sagemaker/base_predictor.py:212\u001b[0m, in \u001b[0;36mPredictor.predict\u001b[0;34m(self, data, initial_args, target_model, target_variant, inference_id, custom_attributes, component_name)\u001b[0m\n\u001b[1;32m    209\u001b[0m \u001b[38;5;28;01mif\u001b[39;00m inference_component_name:\n\u001b[1;32m    210\u001b[0m     request_args[\u001b[38;5;124m\"\u001b[39m\u001b[38;5;124mInferenceComponentName\u001b[39m\u001b[38;5;124m\"\u001b[39m] \u001b[38;5;241m=\u001b[39m inference_component_name\n\u001b[0;32m--> 212\u001b[0m response \u001b[38;5;241m=\u001b[39m \u001b[38;5;28;43mself\u001b[39;49m\u001b[38;5;241;43m.\u001b[39;49m\u001b[43msagemaker_session\u001b[49m\u001b[38;5;241;43m.\u001b[39;49m\u001b[43msagemaker_runtime_client\u001b[49m\u001b[38;5;241;43m.\u001b[39;49m\u001b[43minvoke_endpoint\u001b[49m\u001b[43m(\u001b[49m\u001b[38;5;241;43m*\u001b[39;49m\u001b[38;5;241;43m*\u001b[39;49m\u001b[43mrequest_args\u001b[49m\u001b[43m)\u001b[49m\n\u001b[1;32m    213\u001b[0m \u001b[38;5;28;01mreturn\u001b[39;00m \u001b[38;5;28mself\u001b[39m\u001b[38;5;241m.\u001b[39m_handle_response(response)\n",
      "File \u001b[0;32m/opt/conda/lib/python3.10/site-packages/botocore/client.py:565\u001b[0m, in \u001b[0;36mClientCreator._create_api_method.<locals>._api_call\u001b[0;34m(self, *args, **kwargs)\u001b[0m\n\u001b[1;32m    561\u001b[0m     \u001b[38;5;28;01mraise\u001b[39;00m \u001b[38;5;167;01mTypeError\u001b[39;00m(\n\u001b[1;32m    562\u001b[0m         \u001b[38;5;124mf\u001b[39m\u001b[38;5;124m\"\u001b[39m\u001b[38;5;132;01m{\u001b[39;00mpy_operation_name\u001b[38;5;132;01m}\u001b[39;00m\u001b[38;5;124m() only accepts keyword arguments.\u001b[39m\u001b[38;5;124m\"\u001b[39m\n\u001b[1;32m    563\u001b[0m     )\n\u001b[1;32m    564\u001b[0m \u001b[38;5;66;03m# The \"self\" in this scope is referring to the BaseClient.\u001b[39;00m\n\u001b[0;32m--> 565\u001b[0m \u001b[38;5;28;01mreturn\u001b[39;00m \u001b[38;5;28;43mself\u001b[39;49m\u001b[38;5;241;43m.\u001b[39;49m\u001b[43m_make_api_call\u001b[49m\u001b[43m(\u001b[49m\u001b[43moperation_name\u001b[49m\u001b[43m,\u001b[49m\u001b[43m \u001b[49m\u001b[43mkwargs\u001b[49m\u001b[43m)\u001b[49m\n",
      "File \u001b[0;32m/opt/conda/lib/python3.10/site-packages/botocore/client.py:1021\u001b[0m, in \u001b[0;36mBaseClient._make_api_call\u001b[0;34m(self, operation_name, api_params)\u001b[0m\n\u001b[1;32m   1017\u001b[0m     error_code \u001b[38;5;241m=\u001b[39m error_info\u001b[38;5;241m.\u001b[39mget(\u001b[38;5;124m\"\u001b[39m\u001b[38;5;124mQueryErrorCode\u001b[39m\u001b[38;5;124m\"\u001b[39m) \u001b[38;5;129;01mor\u001b[39;00m error_info\u001b[38;5;241m.\u001b[39mget(\n\u001b[1;32m   1018\u001b[0m         \u001b[38;5;124m\"\u001b[39m\u001b[38;5;124mCode\u001b[39m\u001b[38;5;124m\"\u001b[39m\n\u001b[1;32m   1019\u001b[0m     )\n\u001b[1;32m   1020\u001b[0m     error_class \u001b[38;5;241m=\u001b[39m \u001b[38;5;28mself\u001b[39m\u001b[38;5;241m.\u001b[39mexceptions\u001b[38;5;241m.\u001b[39mfrom_code(error_code)\n\u001b[0;32m-> 1021\u001b[0m     \u001b[38;5;28;01mraise\u001b[39;00m error_class(parsed_response, operation_name)\n\u001b[1;32m   1022\u001b[0m \u001b[38;5;28;01melse\u001b[39;00m:\n\u001b[1;32m   1023\u001b[0m     \u001b[38;5;28;01mreturn\u001b[39;00m parsed_response\n",
      "\u001b[0;31mModelError\u001b[0m: An error occurred (ModelError) when calling the InvokeEndpoint operation: Received server error (0) from primary with message \"Your invocation timed out while waiting for a response from container primary. Review the latency metrics for each container in Amazon CloudWatch, resolve the issue, and try again.\". See https://ap-northeast-1.console.aws.amazon.com/cloudwatch/home?region=ap-northeast-1#logEventViewer:group=/aws/sagemaker/Endpoints/individual-test-1 in account 252553846966 for more information."
     ]
    }
   ],
   "source": [
    "def test_endpoint_prediction(endpoint_name: str, input_data: dict, session, serializer=JSONSerializer(), deserializer=JSONDeserializer()) -> dict:\n",
    "    \"\"\"\n",
    "    デプロイされたエンドポイントに対して推論を実行する関数\n",
    "\n",
    "    :param endpoint_name: デプロイされたエンドポイントの名前\n",
    "    :param input_data: 推論に使用するデータ\n",
    "    :param session: SageMakerセッション\n",
    "    :param serializer: 入力データのシリアライザ (デフォルト: JSONSerializer)\n",
    "    :param deserializer: 出力データのデシリアライザ (デフォルト: JSONDeserializer)\n",
    "    :return: エンドポイントからの推論結果\n",
    "    \"\"\"\n",
    "    logger.info(f\"Creating Predictor object for endpoint '{endpoint_name}'\")\n",
    "\n",
    "    # Predictorオブジェクトの作成\n",
    "    predictor = Predictor(\n",
    "        endpoint_name=endpoint_name,\n",
    "        sagemaker_session=session,\n",
    "        serializer=serializer,\n",
    "        deserializer=deserializer\n",
    "    )\n",
    "\n",
    "    logger.info(\"Sending data to the endpoint for prediction\")\n",
    "    \n",
    "    # 推論の実行\n",
    "    response = predictor.predict(input_data)\n",
    "    \n",
    "    logger.info(\"Prediction completed\")\n",
    "    return response\n",
    "\n",
    "\n",
    "# エンドポイントでの推論実行\n",
    "print(endpoint_name)\n",
    "session = sagemaker_settings[\"session\"]  # 事前に初期化したSageMaker設定を使用\n",
    "prediction_result = test_endpoint_prediction(endpoint_name = endpoint_name,\n",
    "                                             input_data = input_data,\n",
    "                                             session = session)\n",
    "\n",
    "# 結果の表示\n",
    "print(prediction_result['predictions'])"
   ]
  },
  {
   "cell_type": "code",
   "execution_count": 82,
   "id": "3058f13f-70f5-4b23-a731-ff5c9242f71c",
   "metadata": {
    "tags": []
   },
   "outputs": [
    {
     "data": {
      "text/plain": [
       "<sagemaker.session.Session at 0x7fda5303c160>"
      ]
     },
     "execution_count": 82,
     "metadata": {},
     "output_type": "execute_result"
    }
   ],
   "source": [
    "session"
   ]
  },
  {
   "cell_type": "markdown",
   "id": "2856a80a-2476-4ab4-99dc-689da143885c",
   "metadata": {},
   "source": [
    "# テスト"
   ]
  },
  {
   "cell_type": "markdown",
   "id": "88509f22-6b6c-4a2c-b1d4-bde6862466ec",
   "metadata": {},
   "source": [
    "## model_fn()"
   ]
  },
  {
   "cell_type": "code",
   "execution_count": 88,
   "id": "17af5f48-6dd9-4cb7-9d10-c17b18035c1b",
   "metadata": {
    "tags": []
   },
   "outputs": [
    {
     "name": "stderr",
     "output_type": "stream",
     "text": [
      "INFO:inference:モデルをロードしています。\n"
     ]
    },
    {
     "name": "stdout",
     "output_type": "stream",
     "text": [
      "モデルがロードされました: True\n"
     ]
    }
   ],
   "source": [
    "import os\n",
    "import sys\n",
    "target_dir = os.path.abspath(os.path.join(os.getcwd(), '../../src/individual/predict'))\n",
    "sys.path.append(target_dir)\n",
    "\n",
    "from inference import model_fn\n",
    "\n",
    "### モデルディレクトリのパス\n",
    "model_dir = '../../models/individual/2024-10-15_11:37:55'\n",
    "\n",
    "### モデルのロード\n",
    "model = model_fn(model_dir)\n",
    "\n",
    "### モデルが正しくロードされたか確認\n",
    "print(\"モデルがロードされました:\", model is not None)"
   ]
  },
  {
   "cell_type": "markdown",
   "id": "7e0b57a6-35be-4dc6-9fe6-3b8cb8095faf",
   "metadata": {},
   "source": [
    "## input_fn()"
   ]
  },
  {
   "cell_type": "code",
   "execution_count": 62,
   "id": "b4749504-d6fc-4001-bd3d-7587798b0f78",
   "metadata": {
    "tags": []
   },
   "outputs": [
    {
     "name": "stdout",
     "output_type": "stream",
     "text": [
      "入力データ:    成約完＿カ極度額_explain  成約完＿カ件数_explain  成約完＿物販Ｃ残債額_explain  成約完＿物販極度額_explain  \\\n",
      "0               100                1                   0                100   \n",
      "\n",
      "   成約完＿物販件数_explain  成約完＿合計件数_explain  成約完＿合計残債額_explain  成約完＿合計極度額_explain  \\\n",
      "0                 0                 0                  0                200   \n",
      "\n",
      "   外信有無Ｆ_explain  ＣＩＣセグメント_explain  ...  FAQ_返却/満了関連_7days  FAQ_利用方法関連_7days  \\\n",
      "0              1                 6  ...                0.0               0.0   \n",
      "\n",
      "   FAQ_装備関連_7days  FAQ_その他_7days  市区郡町村  ソーシャルグループ  都市化度  クラスタ名  特徴  契約区分  \n",
      "0             0.0            0.0    109          6     4     34  18     1  \n",
      "\n",
      "[1 rows x 217 columns]\n"
     ]
    }
   ],
   "source": [
    "# モジュールの再読み込み\n",
    "importlib.reload(inference)\n",
    "from inference import input_fn\n",
    "\n",
    "\n",
    "request_content_type = 'application/json'\n",
    "\n",
    "### 入力データの作成\n",
    "df = read_csv_from_s3(bucket = \"prod-analysis-platform-sagemaker-ap-northeast-1\",\n",
    "                                key = \"kintojpn/credit-scoring-model/individual/data/preprocessed/deploymodel_input_testdata\",\n",
    "                                filename = \"test.csv\",\n",
    "                                encoding = \"utf-8\").drop([\"Unnamed: 0\",\"申込書受付番号_explain\",\"都道府県(個人)\",\"都道府県(法人)\",], axis=1)\n",
    "\n",
    "test_request_body = json.dumps({\"data\": df.loc[[0]].to_dict(orient='records')})\n",
    "\n",
    "\n",
    "### 入力データの処理\n",
    "input_data = input_fn(test_request_body, request_content_type)\n",
    "\n",
    "### 処理結果の確認\n",
    "print(\"入力データ:\", input_data)"
   ]
  },
  {
   "cell_type": "markdown",
   "id": "4ac82add-cb76-4c9f-accc-6033523b3060",
   "metadata": {
    "tags": []
   },
   "source": [
    "## predict_fn()"
   ]
  },
  {
   "cell_type": "code",
   "execution_count": 63,
   "id": "98c630c9-b48e-4d8c-b87c-80188d377ef6",
   "metadata": {
    "tags": []
   },
   "outputs": [
    {
     "name": "stdout",
     "output_type": "stream",
     "text": [
      "予測結果: [0.04658756]\n"
     ]
    }
   ],
   "source": [
    "importlib.reload(inference)\n",
    "from inference import predict_fn\n",
    "\n",
    "# モデルと入力データを使用して予測\n",
    "prediction = predict_fn(input_data, model)\n",
    "\n",
    "# 予測結果の確認\n",
    "print(\"予測結果:\", prediction)"
   ]
  },
  {
   "cell_type": "markdown",
   "id": "e4e60296-5f2a-4a56-8e43-8af2471c0cbc",
   "metadata": {
    "tags": []
   },
   "source": [
    "## ouput_fn()"
   ]
  },
  {
   "cell_type": "code",
   "execution_count": 64,
   "id": "4520efa3-8245-4b79-8f66-dee4dadc31a7",
   "metadata": {
    "tags": []
   },
   "outputs": [
    {
     "name": "stdout",
     "output_type": "stream",
     "text": [
      "{\"predictions\": [465.8756078491846]}\n"
     ]
    }
   ],
   "source": [
    "importlib.reload(inference)\n",
    "from inference import output_fn\n",
    "\n",
    "response_content_type = 'application/json'\n",
    "\n",
    "### 出力データの生成\n",
    "response = output_fn(prediction, response_content_type)\n",
    "\n",
    "### 応答の確認\n",
    "print(response)"
   ]
  },
  {
   "cell_type": "code",
   "execution_count": null,
   "id": "8375306f-d55a-401b-b163-568cb2c5f478",
   "metadata": {},
   "outputs": [],
   "source": []
  }
 ],
 "metadata": {
  "availableInstances": [
   {
    "_defaultOrder": 0,
    "_isFastLaunch": true,
    "category": "General purpose",
    "gpuNum": 0,
    "hideHardwareSpecs": false,
    "memoryGiB": 4,
    "name": "ml.t3.medium",
    "vcpuNum": 2
   },
   {
    "_defaultOrder": 1,
    "_isFastLaunch": false,
    "category": "General purpose",
    "gpuNum": 0,
    "hideHardwareSpecs": false,
    "memoryGiB": 8,
    "name": "ml.t3.large",
    "vcpuNum": 2
   },
   {
    "_defaultOrder": 2,
    "_isFastLaunch": false,
    "category": "General purpose",
    "gpuNum": 0,
    "hideHardwareSpecs": false,
    "memoryGiB": 16,
    "name": "ml.t3.xlarge",
    "vcpuNum": 4
   },
   {
    "_defaultOrder": 3,
    "_isFastLaunch": false,
    "category": "General purpose",
    "gpuNum": 0,
    "hideHardwareSpecs": false,
    "memoryGiB": 32,
    "name": "ml.t3.2xlarge",
    "vcpuNum": 8
   },
   {
    "_defaultOrder": 4,
    "_isFastLaunch": true,
    "category": "General purpose",
    "gpuNum": 0,
    "hideHardwareSpecs": false,
    "memoryGiB": 8,
    "name": "ml.m5.large",
    "vcpuNum": 2
   },
   {
    "_defaultOrder": 5,
    "_isFastLaunch": false,
    "category": "General purpose",
    "gpuNum": 0,
    "hideHardwareSpecs": false,
    "memoryGiB": 16,
    "name": "ml.m5.xlarge",
    "vcpuNum": 4
   },
   {
    "_defaultOrder": 6,
    "_isFastLaunch": false,
    "category": "General purpose",
    "gpuNum": 0,
    "hideHardwareSpecs": false,
    "memoryGiB": 32,
    "name": "ml.m5.2xlarge",
    "vcpuNum": 8
   },
   {
    "_defaultOrder": 7,
    "_isFastLaunch": false,
    "category": "General purpose",
    "gpuNum": 0,
    "hideHardwareSpecs": false,
    "memoryGiB": 64,
    "name": "ml.m5.4xlarge",
    "vcpuNum": 16
   },
   {
    "_defaultOrder": 8,
    "_isFastLaunch": false,
    "category": "General purpose",
    "gpuNum": 0,
    "hideHardwareSpecs": false,
    "memoryGiB": 128,
    "name": "ml.m5.8xlarge",
    "vcpuNum": 32
   },
   {
    "_defaultOrder": 9,
    "_isFastLaunch": false,
    "category": "General purpose",
    "gpuNum": 0,
    "hideHardwareSpecs": false,
    "memoryGiB": 192,
    "name": "ml.m5.12xlarge",
    "vcpuNum": 48
   },
   {
    "_defaultOrder": 10,
    "_isFastLaunch": false,
    "category": "General purpose",
    "gpuNum": 0,
    "hideHardwareSpecs": false,
    "memoryGiB": 256,
    "name": "ml.m5.16xlarge",
    "vcpuNum": 64
   },
   {
    "_defaultOrder": 11,
    "_isFastLaunch": false,
    "category": "General purpose",
    "gpuNum": 0,
    "hideHardwareSpecs": false,
    "memoryGiB": 384,
    "name": "ml.m5.24xlarge",
    "vcpuNum": 96
   },
   {
    "_defaultOrder": 12,
    "_isFastLaunch": false,
    "category": "General purpose",
    "gpuNum": 0,
    "hideHardwareSpecs": false,
    "memoryGiB": 8,
    "name": "ml.m5d.large",
    "vcpuNum": 2
   },
   {
    "_defaultOrder": 13,
    "_isFastLaunch": false,
    "category": "General purpose",
    "gpuNum": 0,
    "hideHardwareSpecs": false,
    "memoryGiB": 16,
    "name": "ml.m5d.xlarge",
    "vcpuNum": 4
   },
   {
    "_defaultOrder": 14,
    "_isFastLaunch": false,
    "category": "General purpose",
    "gpuNum": 0,
    "hideHardwareSpecs": false,
    "memoryGiB": 32,
    "name": "ml.m5d.2xlarge",
    "vcpuNum": 8
   },
   {
    "_defaultOrder": 15,
    "_isFastLaunch": false,
    "category": "General purpose",
    "gpuNum": 0,
    "hideHardwareSpecs": false,
    "memoryGiB": 64,
    "name": "ml.m5d.4xlarge",
    "vcpuNum": 16
   },
   {
    "_defaultOrder": 16,
    "_isFastLaunch": false,
    "category": "General purpose",
    "gpuNum": 0,
    "hideHardwareSpecs": false,
    "memoryGiB": 128,
    "name": "ml.m5d.8xlarge",
    "vcpuNum": 32
   },
   {
    "_defaultOrder": 17,
    "_isFastLaunch": false,
    "category": "General purpose",
    "gpuNum": 0,
    "hideHardwareSpecs": false,
    "memoryGiB": 192,
    "name": "ml.m5d.12xlarge",
    "vcpuNum": 48
   },
   {
    "_defaultOrder": 18,
    "_isFastLaunch": false,
    "category": "General purpose",
    "gpuNum": 0,
    "hideHardwareSpecs": false,
    "memoryGiB": 256,
    "name": "ml.m5d.16xlarge",
    "vcpuNum": 64
   },
   {
    "_defaultOrder": 19,
    "_isFastLaunch": false,
    "category": "General purpose",
    "gpuNum": 0,
    "hideHardwareSpecs": false,
    "memoryGiB": 384,
    "name": "ml.m5d.24xlarge",
    "vcpuNum": 96
   },
   {
    "_defaultOrder": 20,
    "_isFastLaunch": false,
    "category": "General purpose",
    "gpuNum": 0,
    "hideHardwareSpecs": true,
    "memoryGiB": 0,
    "name": "ml.geospatial.interactive",
    "supportedImageNames": [
     "sagemaker-geospatial-v1-0"
    ],
    "vcpuNum": 0
   },
   {
    "_defaultOrder": 21,
    "_isFastLaunch": true,
    "category": "Compute optimized",
    "gpuNum": 0,
    "hideHardwareSpecs": false,
    "memoryGiB": 4,
    "name": "ml.c5.large",
    "vcpuNum": 2
   },
   {
    "_defaultOrder": 22,
    "_isFastLaunch": false,
    "category": "Compute optimized",
    "gpuNum": 0,
    "hideHardwareSpecs": false,
    "memoryGiB": 8,
    "name": "ml.c5.xlarge",
    "vcpuNum": 4
   },
   {
    "_defaultOrder": 23,
    "_isFastLaunch": false,
    "category": "Compute optimized",
    "gpuNum": 0,
    "hideHardwareSpecs": false,
    "memoryGiB": 16,
    "name": "ml.c5.2xlarge",
    "vcpuNum": 8
   },
   {
    "_defaultOrder": 24,
    "_isFastLaunch": false,
    "category": "Compute optimized",
    "gpuNum": 0,
    "hideHardwareSpecs": false,
    "memoryGiB": 32,
    "name": "ml.c5.4xlarge",
    "vcpuNum": 16
   },
   {
    "_defaultOrder": 25,
    "_isFastLaunch": false,
    "category": "Compute optimized",
    "gpuNum": 0,
    "hideHardwareSpecs": false,
    "memoryGiB": 72,
    "name": "ml.c5.9xlarge",
    "vcpuNum": 36
   },
   {
    "_defaultOrder": 26,
    "_isFastLaunch": false,
    "category": "Compute optimized",
    "gpuNum": 0,
    "hideHardwareSpecs": false,
    "memoryGiB": 96,
    "name": "ml.c5.12xlarge",
    "vcpuNum": 48
   },
   {
    "_defaultOrder": 27,
    "_isFastLaunch": false,
    "category": "Compute optimized",
    "gpuNum": 0,
    "hideHardwareSpecs": false,
    "memoryGiB": 144,
    "name": "ml.c5.18xlarge",
    "vcpuNum": 72
   },
   {
    "_defaultOrder": 28,
    "_isFastLaunch": false,
    "category": "Compute optimized",
    "gpuNum": 0,
    "hideHardwareSpecs": false,
    "memoryGiB": 192,
    "name": "ml.c5.24xlarge",
    "vcpuNum": 96
   },
   {
    "_defaultOrder": 29,
    "_isFastLaunch": true,
    "category": "Accelerated computing",
    "gpuNum": 1,
    "hideHardwareSpecs": false,
    "memoryGiB": 16,
    "name": "ml.g4dn.xlarge",
    "vcpuNum": 4
   },
   {
    "_defaultOrder": 30,
    "_isFastLaunch": false,
    "category": "Accelerated computing",
    "gpuNum": 1,
    "hideHardwareSpecs": false,
    "memoryGiB": 32,
    "name": "ml.g4dn.2xlarge",
    "vcpuNum": 8
   },
   {
    "_defaultOrder": 31,
    "_isFastLaunch": false,
    "category": "Accelerated computing",
    "gpuNum": 1,
    "hideHardwareSpecs": false,
    "memoryGiB": 64,
    "name": "ml.g4dn.4xlarge",
    "vcpuNum": 16
   },
   {
    "_defaultOrder": 32,
    "_isFastLaunch": false,
    "category": "Accelerated computing",
    "gpuNum": 1,
    "hideHardwareSpecs": false,
    "memoryGiB": 128,
    "name": "ml.g4dn.8xlarge",
    "vcpuNum": 32
   },
   {
    "_defaultOrder": 33,
    "_isFastLaunch": false,
    "category": "Accelerated computing",
    "gpuNum": 4,
    "hideHardwareSpecs": false,
    "memoryGiB": 192,
    "name": "ml.g4dn.12xlarge",
    "vcpuNum": 48
   },
   {
    "_defaultOrder": 34,
    "_isFastLaunch": false,
    "category": "Accelerated computing",
    "gpuNum": 1,
    "hideHardwareSpecs": false,
    "memoryGiB": 256,
    "name": "ml.g4dn.16xlarge",
    "vcpuNum": 64
   },
   {
    "_defaultOrder": 35,
    "_isFastLaunch": false,
    "category": "Accelerated computing",
    "gpuNum": 1,
    "hideHardwareSpecs": false,
    "memoryGiB": 61,
    "name": "ml.p3.2xlarge",
    "vcpuNum": 8
   },
   {
    "_defaultOrder": 36,
    "_isFastLaunch": false,
    "category": "Accelerated computing",
    "gpuNum": 4,
    "hideHardwareSpecs": false,
    "memoryGiB": 244,
    "name": "ml.p3.8xlarge",
    "vcpuNum": 32
   },
   {
    "_defaultOrder": 37,
    "_isFastLaunch": false,
    "category": "Accelerated computing",
    "gpuNum": 8,
    "hideHardwareSpecs": false,
    "memoryGiB": 488,
    "name": "ml.p3.16xlarge",
    "vcpuNum": 64
   },
   {
    "_defaultOrder": 38,
    "_isFastLaunch": false,
    "category": "Accelerated computing",
    "gpuNum": 8,
    "hideHardwareSpecs": false,
    "memoryGiB": 768,
    "name": "ml.p3dn.24xlarge",
    "vcpuNum": 96
   },
   {
    "_defaultOrder": 39,
    "_isFastLaunch": false,
    "category": "Memory Optimized",
    "gpuNum": 0,
    "hideHardwareSpecs": false,
    "memoryGiB": 16,
    "name": "ml.r5.large",
    "vcpuNum": 2
   },
   {
    "_defaultOrder": 40,
    "_isFastLaunch": false,
    "category": "Memory Optimized",
    "gpuNum": 0,
    "hideHardwareSpecs": false,
    "memoryGiB": 32,
    "name": "ml.r5.xlarge",
    "vcpuNum": 4
   },
   {
    "_defaultOrder": 41,
    "_isFastLaunch": false,
    "category": "Memory Optimized",
    "gpuNum": 0,
    "hideHardwareSpecs": false,
    "memoryGiB": 64,
    "name": "ml.r5.2xlarge",
    "vcpuNum": 8
   },
   {
    "_defaultOrder": 42,
    "_isFastLaunch": false,
    "category": "Memory Optimized",
    "gpuNum": 0,
    "hideHardwareSpecs": false,
    "memoryGiB": 128,
    "name": "ml.r5.4xlarge",
    "vcpuNum": 16
   },
   {
    "_defaultOrder": 43,
    "_isFastLaunch": false,
    "category": "Memory Optimized",
    "gpuNum": 0,
    "hideHardwareSpecs": false,
    "memoryGiB": 256,
    "name": "ml.r5.8xlarge",
    "vcpuNum": 32
   },
   {
    "_defaultOrder": 44,
    "_isFastLaunch": false,
    "category": "Memory Optimized",
    "gpuNum": 0,
    "hideHardwareSpecs": false,
    "memoryGiB": 384,
    "name": "ml.r5.12xlarge",
    "vcpuNum": 48
   },
   {
    "_defaultOrder": 45,
    "_isFastLaunch": false,
    "category": "Memory Optimized",
    "gpuNum": 0,
    "hideHardwareSpecs": false,
    "memoryGiB": 512,
    "name": "ml.r5.16xlarge",
    "vcpuNum": 64
   },
   {
    "_defaultOrder": 46,
    "_isFastLaunch": false,
    "category": "Memory Optimized",
    "gpuNum": 0,
    "hideHardwareSpecs": false,
    "memoryGiB": 768,
    "name": "ml.r5.24xlarge",
    "vcpuNum": 96
   },
   {
    "_defaultOrder": 47,
    "_isFastLaunch": false,
    "category": "Accelerated computing",
    "gpuNum": 1,
    "hideHardwareSpecs": false,
    "memoryGiB": 16,
    "name": "ml.g5.xlarge",
    "vcpuNum": 4
   },
   {
    "_defaultOrder": 48,
    "_isFastLaunch": false,
    "category": "Accelerated computing",
    "gpuNum": 1,
    "hideHardwareSpecs": false,
    "memoryGiB": 32,
    "name": "ml.g5.2xlarge",
    "vcpuNum": 8
   },
   {
    "_defaultOrder": 49,
    "_isFastLaunch": false,
    "category": "Accelerated computing",
    "gpuNum": 1,
    "hideHardwareSpecs": false,
    "memoryGiB": 64,
    "name": "ml.g5.4xlarge",
    "vcpuNum": 16
   },
   {
    "_defaultOrder": 50,
    "_isFastLaunch": false,
    "category": "Accelerated computing",
    "gpuNum": 1,
    "hideHardwareSpecs": false,
    "memoryGiB": 128,
    "name": "ml.g5.8xlarge",
    "vcpuNum": 32
   },
   {
    "_defaultOrder": 51,
    "_isFastLaunch": false,
    "category": "Accelerated computing",
    "gpuNum": 1,
    "hideHardwareSpecs": false,
    "memoryGiB": 256,
    "name": "ml.g5.16xlarge",
    "vcpuNum": 64
   },
   {
    "_defaultOrder": 52,
    "_isFastLaunch": false,
    "category": "Accelerated computing",
    "gpuNum": 4,
    "hideHardwareSpecs": false,
    "memoryGiB": 192,
    "name": "ml.g5.12xlarge",
    "vcpuNum": 48
   },
   {
    "_defaultOrder": 53,
    "_isFastLaunch": false,
    "category": "Accelerated computing",
    "gpuNum": 4,
    "hideHardwareSpecs": false,
    "memoryGiB": 384,
    "name": "ml.g5.24xlarge",
    "vcpuNum": 96
   },
   {
    "_defaultOrder": 54,
    "_isFastLaunch": false,
    "category": "Accelerated computing",
    "gpuNum": 8,
    "hideHardwareSpecs": false,
    "memoryGiB": 768,
    "name": "ml.g5.48xlarge",
    "vcpuNum": 192
   },
   {
    "_defaultOrder": 55,
    "_isFastLaunch": false,
    "category": "Accelerated computing",
    "gpuNum": 8,
    "hideHardwareSpecs": false,
    "memoryGiB": 1152,
    "name": "ml.p4d.24xlarge",
    "vcpuNum": 96
   },
   {
    "_defaultOrder": 56,
    "_isFastLaunch": false,
    "category": "Accelerated computing",
    "gpuNum": 8,
    "hideHardwareSpecs": false,
    "memoryGiB": 1152,
    "name": "ml.p4de.24xlarge",
    "vcpuNum": 96
   },
   {
    "_defaultOrder": 57,
    "_isFastLaunch": false,
    "category": "Accelerated computing",
    "gpuNum": 0,
    "hideHardwareSpecs": false,
    "memoryGiB": 32,
    "name": "ml.trn1.2xlarge",
    "vcpuNum": 8
   },
   {
    "_defaultOrder": 58,
    "_isFastLaunch": false,
    "category": "Accelerated computing",
    "gpuNum": 0,
    "hideHardwareSpecs": false,
    "memoryGiB": 512,
    "name": "ml.trn1.32xlarge",
    "vcpuNum": 128
   },
   {
    "_defaultOrder": 59,
    "_isFastLaunch": false,
    "category": "Accelerated computing",
    "gpuNum": 0,
    "hideHardwareSpecs": false,
    "memoryGiB": 512,
    "name": "ml.trn1n.32xlarge",
    "vcpuNum": 128
   }
  ],
  "instance_type": "ml.m5.xlarge",
  "kernelspec": {
   "display_name": "Python 3 (Data Science 3.0)",
   "language": "python",
   "name": "python3__SAGEMAKER_INTERNAL__arn:aws:sagemaker:ap-northeast-1:102112518831:image/sagemaker-data-science-310-v1"
  },
  "language_info": {
   "codemirror_mode": {
    "name": "ipython",
    "version": 3
   },
   "file_extension": ".py",
   "mimetype": "text/x-python",
   "name": "python",
   "nbconvert_exporter": "python",
   "pygments_lexer": "ipython3",
   "version": "3.10.6"
  },
  "toc-autonumbering": true
 },
 "nbformat": 4,
 "nbformat_minor": 5
}
